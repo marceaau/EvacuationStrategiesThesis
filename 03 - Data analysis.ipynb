{
 "cells": [
  {
   "cell_type": "code",
   "execution_count": 1,
   "metadata": {},
   "outputs": [
    {
     "name": "stderr",
     "output_type": "stream",
     "text": [
      "C:\\Users\\marce\\Anaconda3\\lib\\site-packages\\statsmodels\\tools\\_testing.py:19: FutureWarning: pandas.util.testing is deprecated. Use the functions in the public API at pandas.testing instead.\n",
      "  import pandas.util.testing as tm\n"
     ]
    }
   ],
   "source": [
    "# Import libraries\n",
    "import numpy as np\n",
    "import scipy as sp\n",
    "import pandas as pd\n",
    "import matplotlib.pyplot as plt\n",
    "import seaborn as sns\n",
    "import networkx as nx\n",
    "\n",
    "from ema_workbench.util import ema_logging, utilities\n",
    "\n",
    "plt.style.use('ggplot')\n",
    "from matplotlib.pyplot import figure\n",
    "import math"
   ]
  },
  {
   "cell_type": "code",
   "execution_count": 3,
   "metadata": {
    "scrolled": false
   },
   "outputs": [],
   "source": [
    "results = utilities.load_results('results/Scenarios11000Policy.csv')\n",
    "experiments, outcomes = results\n",
    "\n",
    "outcomes_splitted = {'evac100': [], 'evac95': [], 'evac75': [], 'evac50': [], 'mean_delay': [], 'min_delay': [], 'max_delay': [], 'mean_density': [], 'mean_walkspeed': [], 'exit1': [], 'exit2': [], 'exit3': [], 'exit4': [], 'exit5': []}\n",
    "\n",
    "for outcome in outcomes[\"evactimes\"]:\n",
    "    outcomes_splitted['evac100'].append(outcome[0][0])\n",
    "    outcomes_splitted['evac95'].append(outcome[0][1])\n",
    "    outcomes_splitted['evac75'].append(outcome[0][2])\n",
    "    outcomes_splitted['evac50'].append(outcome[0][3])\n",
    "    \n",
    "for outcome in outcomes[\"densities\"]:\n",
    "    outcomes_splitted['mean_delay'].append(outcome[0][0])\n",
    "    outcomes_splitted['min_delay'].append(outcome[0][1])\n",
    "    outcomes_splitted['max_delay'].append(outcome[0][2])\n",
    "    outcomes_splitted['mean_density'].append(outcome[0][3])\n",
    "    outcomes_splitted['mean_walkspeed'].append(outcome[0][4])\n",
    "    \n",
    "for outcome in outcomes[\"evacuees_per_exit\"]:\n",
    "    outcomes_splitted['exit1'].append(outcome[0][0])\n",
    "    outcomes_splitted['exit2'].append(outcome[0][1])\n",
    "    outcomes_splitted['exit3'].append(outcome[0][2])\n",
    "    outcomes_splitted['exit4'].append(outcome[0][3])\n",
    "    outcomes_splitted['exit5'].append(outcome[0][4])\n",
    "    \n",
    "df_outcomes = pd.DataFrame(outcomes_splitted)\n",
    "df = pd.concat([experiments,df_outcomes],axis=1,sort=False)\n",
    "\n",
    "# Using DataFrame.drop\n",
    "df.drop(df.columns[3:11], axis=1, inplace=True)"
   ]
  },
  {
   "cell_type": "code",
   "execution_count": 4,
   "metadata": {},
   "outputs": [
    {
     "data": {
      "text/html": [
       "<div>\n",
       "<style scoped>\n",
       "    .dataframe tbody tr th:only-of-type {\n",
       "        vertical-align: middle;\n",
       "    }\n",
       "\n",
       "    .dataframe tbody tr th {\n",
       "        vertical-align: top;\n",
       "    }\n",
       "\n",
       "    .dataframe thead th {\n",
       "        text-align: right;\n",
       "    }\n",
       "</style>\n",
       "<table border=\"1\" class=\"dataframe\">\n",
       "  <thead>\n",
       "    <tr style=\"text-align: right;\">\n",
       "      <th></th>\n",
       "      <th>compliance</th>\n",
       "      <th>familiarity</th>\n",
       "      <th>population</th>\n",
       "      <th>policy</th>\n",
       "      <th>model</th>\n",
       "      <th>evac100</th>\n",
       "      <th>evac95</th>\n",
       "      <th>evac75</th>\n",
       "      <th>evac50</th>\n",
       "      <th>mean_delay</th>\n",
       "      <th>min_delay</th>\n",
       "      <th>max_delay</th>\n",
       "      <th>mean_density</th>\n",
       "      <th>mean_walkspeed</th>\n",
       "      <th>exit1</th>\n",
       "      <th>exit2</th>\n",
       "      <th>exit3</th>\n",
       "      <th>exit4</th>\n",
       "      <th>exit5</th>\n",
       "    </tr>\n",
       "  </thead>\n",
       "  <tbody>\n",
       "    <tr>\n",
       "      <th>13833</th>\n",
       "      <td>0.9</td>\n",
       "      <td>1.00</td>\n",
       "      <td>700</td>\n",
       "      <td>Wider Both</td>\n",
       "      <td>evacuation</td>\n",
       "      <td>136.0</td>\n",
       "      <td>119.0</td>\n",
       "      <td>84.0</td>\n",
       "      <td>55.0</td>\n",
       "      <td>11.201375</td>\n",
       "      <td>2.0</td>\n",
       "      <td>28.0</td>\n",
       "      <td>0.129397</td>\n",
       "      <td>0.598311</td>\n",
       "      <td>73.0</td>\n",
       "      <td>149.0</td>\n",
       "      <td>122.0</td>\n",
       "      <td>261.0</td>\n",
       "      <td>95.0</td>\n",
       "    </tr>\n",
       "    <tr>\n",
       "      <th>15316</th>\n",
       "      <td>0.4</td>\n",
       "      <td>1.00</td>\n",
       "      <td>700</td>\n",
       "      <td>Wider Both</td>\n",
       "      <td>evacuation</td>\n",
       "      <td>137.0</td>\n",
       "      <td>115.0</td>\n",
       "      <td>85.0</td>\n",
       "      <td>53.0</td>\n",
       "      <td>11.169458</td>\n",
       "      <td>2.0</td>\n",
       "      <td>27.0</td>\n",
       "      <td>0.127725</td>\n",
       "      <td>0.617165</td>\n",
       "      <td>71.0</td>\n",
       "      <td>153.0</td>\n",
       "      <td>127.0</td>\n",
       "      <td>275.0</td>\n",
       "      <td>74.0</td>\n",
       "    </tr>\n",
       "    <tr>\n",
       "      <th>15075</th>\n",
       "      <td>0.4</td>\n",
       "      <td>0.75</td>\n",
       "      <td>700</td>\n",
       "      <td>Wider Both</td>\n",
       "      <td>evacuation</td>\n",
       "      <td>138.0</td>\n",
       "      <td>122.0</td>\n",
       "      <td>86.0</td>\n",
       "      <td>58.0</td>\n",
       "      <td>11.124629</td>\n",
       "      <td>2.0</td>\n",
       "      <td>24.0</td>\n",
       "      <td>0.123325</td>\n",
       "      <td>0.668538</td>\n",
       "      <td>61.0</td>\n",
       "      <td>111.0</td>\n",
       "      <td>117.0</td>\n",
       "      <td>349.0</td>\n",
       "      <td>62.0</td>\n",
       "    </tr>\n",
       "    <tr>\n",
       "      <th>10606</th>\n",
       "      <td>0.9</td>\n",
       "      <td>0.75</td>\n",
       "      <td>700</td>\n",
       "      <td>Wider Stairs</td>\n",
       "      <td>evacuation</td>\n",
       "      <td>140.0</td>\n",
       "      <td>124.0</td>\n",
       "      <td>90.0</td>\n",
       "      <td>62.0</td>\n",
       "      <td>11.910979</td>\n",
       "      <td>2.0</td>\n",
       "      <td>27.0</td>\n",
       "      <td>0.135407</td>\n",
       "      <td>0.636446</td>\n",
       "      <td>44.0</td>\n",
       "      <td>108.0</td>\n",
       "      <td>100.0</td>\n",
       "      <td>388.0</td>\n",
       "      <td>60.0</td>\n",
       "    </tr>\n",
       "    <tr>\n",
       "      <th>13271</th>\n",
       "      <td>0.4</td>\n",
       "      <td>0.75</td>\n",
       "      <td>700</td>\n",
       "      <td>Wider Both</td>\n",
       "      <td>evacuation</td>\n",
       "      <td>140.0</td>\n",
       "      <td>119.0</td>\n",
       "      <td>85.0</td>\n",
       "      <td>55.0</td>\n",
       "      <td>11.419840</td>\n",
       "      <td>2.0</td>\n",
       "      <td>25.0</td>\n",
       "      <td>0.120962</td>\n",
       "      <td>0.668870</td>\n",
       "      <td>41.0</td>\n",
       "      <td>114.0</td>\n",
       "      <td>110.0</td>\n",
       "      <td>368.0</td>\n",
       "      <td>67.0</td>\n",
       "    </tr>\n",
       "  </tbody>\n",
       "</table>\n",
       "</div>"
      ],
      "text/plain": [
       "      compliance familiarity population        policy       model  evac100  \\\n",
       "13833        0.9        1.00        700    Wider Both  evacuation    136.0   \n",
       "15316        0.4        1.00        700    Wider Both  evacuation    137.0   \n",
       "15075        0.4        0.75        700    Wider Both  evacuation    138.0   \n",
       "10606        0.9        0.75        700  Wider Stairs  evacuation    140.0   \n",
       "13271        0.4        0.75        700    Wider Both  evacuation    140.0   \n",
       "\n",
       "       evac95  evac75  evac50  mean_delay  min_delay  max_delay  mean_density  \\\n",
       "13833   119.0    84.0    55.0   11.201375        2.0       28.0      0.129397   \n",
       "15316   115.0    85.0    53.0   11.169458        2.0       27.0      0.127725   \n",
       "15075   122.0    86.0    58.0   11.124629        2.0       24.0      0.123325   \n",
       "10606   124.0    90.0    62.0   11.910979        2.0       27.0      0.135407   \n",
       "13271   119.0    85.0    55.0   11.419840        2.0       25.0      0.120962   \n",
       "\n",
       "       mean_walkspeed  exit1  exit2  exit3  exit4  exit5  \n",
       "13833        0.598311   73.0  149.0  122.0  261.0   95.0  \n",
       "15316        0.617165   71.0  153.0  127.0  275.0   74.0  \n",
       "15075        0.668538   61.0  111.0  117.0  349.0   62.0  \n",
       "10606        0.636446   44.0  108.0  100.0  388.0   60.0  \n",
       "13271        0.668870   41.0  114.0  110.0  368.0   67.0  "
      ]
     },
     "execution_count": 4,
     "metadata": {},
     "output_type": "execute_result"
    }
   ],
   "source": [
    "df.nsmallest(5, \"evac100\")"
   ]
  },
  {
   "cell_type": "code",
   "execution_count": 5,
   "metadata": {},
   "outputs": [],
   "source": [
    "def check_convergence(df, crowd, familiarity, compliance, policy):\n",
    "    df_conv = df[(df['compliance'] == compliance) & (df['familiarity'] == familiarity) & (df['population'] == crowd) & (df['policy'] == policy)]\n",
    "    \n",
    "    for index, row in df_conv.iterrows():\n",
    "        df_conv.loc[index,'Average Ticks'] = df_conv.loc[:index,'evac100'].mean()\n",
    "        \n",
    "    df_conv.reset_index(inplace=True)\n",
    "    \n",
    "    ax = sns.lineplot(data=df_conv, x=df_conv.index,y='Average Ticks')\n",
    "    ax.set(xlabel='Number of repetitions',ylabel='Average evacuation time (ticks)')\n",
    "    plt.show()"
   ]
  },
  {
   "cell_type": "code",
   "execution_count": 6,
   "metadata": {},
   "outputs": [],
   "source": [
    "#check_convergence(df, 1400, 0.75, 0.65, \"Staff\")\n",
    "#check_convergence(df, 1400, 0.50, 0.9, \"Staff\")"
   ]
  },
  {
   "cell_type": "markdown",
   "metadata": {},
   "source": [
    "## OVERVIEW ##"
   ]
  },
  {
   "cell_type": "code",
   "execution_count": 7,
   "metadata": {},
   "outputs": [
    {
     "data": {
      "text/plain": [
       "'\\\\begin{tabular}{lrrrr}\\n\\\\toprule\\n{} &  Mean &  Min &  Max &  STD \\\\\\\\\\n\\\\midrule\\nBase            &   340 &  147 &  618 &  125 \\\\\\\\\\nDynamic Signs   &   305 &  142 &  537 &  110 \\\\\\\\\\nObstacles       &   328 &  148 &  591 &  118 \\\\\\\\\\nOne Way Traffic &   349 &  151 &  631 &  129 \\\\\\\\\\nPhased          &   348 &  168 &  618 &  119 \\\\\\\\\\nStaff           &   323 &  181 &  559 &   97 \\\\\\\\\\nWider Both      &   306 &  136 &  591 &  113 \\\\\\\\\\nWider Exit      &   320 &  146 &  623 &  120 \\\\\\\\\\nWider Stairs    &   326 &  140 &  607 &  117 \\\\\\\\\\n\\\\bottomrule\\n\\\\end{tabular}\\n'"
      ]
     },
     "execution_count": 7,
     "metadata": {},
     "output_type": "execute_result"
    }
   ],
   "source": [
    "table = pd.DataFrame()\n",
    "\n",
    "table = table.append(df.groupby(['policy']).mean()[\"evac100\"])\n",
    "table = table.append(df.groupby(['policy']).min()[\"evac100\"])\n",
    "table = table.append(df.groupby(['policy']).max()[\"evac100\"])\n",
    "table = table.append(df.groupby(['policy']).std()[\"evac100\"])\n",
    "\n",
    "table = table.round(0).astype('int32').T\n",
    "table.columns = [\"Mean\", \"Min\", \"Max\", \"STD\"]\n",
    "table.to_latex()"
   ]
  },
  {
   "cell_type": "code",
   "execution_count": 8,
   "metadata": {},
   "outputs": [
    {
     "data": {
      "text/html": [
       "<div>\n",
       "<style scoped>\n",
       "    .dataframe tbody tr th:only-of-type {\n",
       "        vertical-align: middle;\n",
       "    }\n",
       "\n",
       "    .dataframe tbody tr th {\n",
       "        vertical-align: top;\n",
       "    }\n",
       "\n",
       "    .dataframe thead th {\n",
       "        text-align: right;\n",
       "    }\n",
       "</style>\n",
       "<table border=\"1\" class=\"dataframe\">\n",
       "  <thead>\n",
       "    <tr style=\"text-align: right;\">\n",
       "      <th></th>\n",
       "      <th>Mean</th>\n",
       "      <th>Min</th>\n",
       "      <th>Max</th>\n",
       "      <th>STD</th>\n",
       "    </tr>\n",
       "  </thead>\n",
       "  <tbody>\n",
       "    <tr>\n",
       "      <th>Base</th>\n",
       "      <td>340</td>\n",
       "      <td>147</td>\n",
       "      <td>618</td>\n",
       "      <td>125</td>\n",
       "    </tr>\n",
       "    <tr>\n",
       "      <th>Dynamic Signs</th>\n",
       "      <td>305</td>\n",
       "      <td>142</td>\n",
       "      <td>537</td>\n",
       "      <td>110</td>\n",
       "    </tr>\n",
       "    <tr>\n",
       "      <th>Obstacles</th>\n",
       "      <td>328</td>\n",
       "      <td>148</td>\n",
       "      <td>591</td>\n",
       "      <td>118</td>\n",
       "    </tr>\n",
       "    <tr>\n",
       "      <th>One Way Traffic</th>\n",
       "      <td>349</td>\n",
       "      <td>151</td>\n",
       "      <td>631</td>\n",
       "      <td>129</td>\n",
       "    </tr>\n",
       "    <tr>\n",
       "      <th>Phased</th>\n",
       "      <td>348</td>\n",
       "      <td>168</td>\n",
       "      <td>618</td>\n",
       "      <td>119</td>\n",
       "    </tr>\n",
       "    <tr>\n",
       "      <th>Staff</th>\n",
       "      <td>323</td>\n",
       "      <td>181</td>\n",
       "      <td>559</td>\n",
       "      <td>97</td>\n",
       "    </tr>\n",
       "    <tr>\n",
       "      <th>Wider Both</th>\n",
       "      <td>306</td>\n",
       "      <td>136</td>\n",
       "      <td>591</td>\n",
       "      <td>113</td>\n",
       "    </tr>\n",
       "    <tr>\n",
       "      <th>Wider Exit</th>\n",
       "      <td>320</td>\n",
       "      <td>146</td>\n",
       "      <td>623</td>\n",
       "      <td>120</td>\n",
       "    </tr>\n",
       "    <tr>\n",
       "      <th>Wider Stairs</th>\n",
       "      <td>326</td>\n",
       "      <td>140</td>\n",
       "      <td>607</td>\n",
       "      <td>117</td>\n",
       "    </tr>\n",
       "  </tbody>\n",
       "</table>\n",
       "</div>"
      ],
      "text/plain": [
       "                 Mean  Min  Max  STD\n",
       "Base              340  147  618  125\n",
       "Dynamic Signs     305  142  537  110\n",
       "Obstacles         328  148  591  118\n",
       "One Way Traffic   349  151  631  129\n",
       "Phased            348  168  618  119\n",
       "Staff             323  181  559   97\n",
       "Wider Both        306  136  591  113\n",
       "Wider Exit        320  146  623  120\n",
       "Wider Stairs      326  140  607  117"
      ]
     },
     "execution_count": 8,
     "metadata": {},
     "output_type": "execute_result"
    }
   ],
   "source": [
    "table"
   ]
  },
  {
   "cell_type": "code",
   "execution_count": 51,
   "metadata": {},
   "outputs": [
    {
     "data": {
      "image/png": "[encoded data removed]",
      "text/plain": [
       "<Figure size 1440x504 with 1 Axes>"
      ]
     },
     "metadata": {
      "needs_background": "light"
     },
     "output_type": "display_data"
    }
   ],
   "source": [
    "fig = plt.figure(figsize=(20,7))\n",
    "sns.boxplot(x=\"policy\", y=\"evac100\", data=df)\n",
    "\n",
    "plt.xlabel('Evacuation strategy', fontsize=16)\n",
    "plt.ylabel('Evacuation time', fontsize=16)\n",
    "fig.savefig('overview-strategies-saved.jpg')"
   ]
  },
  {
   "cell_type": "markdown",
   "metadata": {},
   "source": [
    "## OVERVIEW POPULATION ##"
   ]
  },
  {
   "cell_type": "code",
   "execution_count": 38,
   "metadata": {},
   "outputs": [],
   "source": [
    "for index, row in df.iterrows():\n",
    "    if row['population'] == 700:\n",
    "        df.loc[index,'Density'] = \"Low\"\n",
    "    elif row['population'] == 1400:\n",
    "        df.loc[index,'Density'] = \"Medium\"\n",
    "    elif row['population'] == 2100:\n",
    "        df.loc[index,'Density'] = \"High\""
   ]
  },
  {
   "cell_type": "code",
   "execution_count": 42,
   "metadata": {},
   "outputs": [],
   "source": [
    "df = df.iloc[1:]\n"
   ]
  },
  {
   "cell_type": "code",
   "execution_count": 49,
   "metadata": {},
   "outputs": [
    {
     "data": {
      "image/png": "[encoded data removed]",
      "text/plain": [
       "<Figure size 1440x504 with 1 Axes>"
      ]
     },
     "metadata": {
      "needs_background": "light"
     },
     "output_type": "display_data"
    }
   ],
   "source": [
    "fig = plt.figure(figsize=(20,7))\n",
    "sns.boxplot(x=\"Density\", y=\"evac100\", hue=\"policy\", data=df)\n",
    "\n",
    "plt.xlabel('Crowd density', fontsize=16)\n",
    "plt.ylabel('Evacuation time', fontsize=16)\n",
    "fig.savefig('overview-crowddensity-population-saved.jpg')"
   ]
  },
  {
   "cell_type": "code",
   "execution_count": 11,
   "metadata": {},
   "outputs": [],
   "source": [
    "table = pd.DataFrame()"
   ]
  },
  {
   "cell_type": "code",
   "execution_count": 12,
   "metadata": {},
   "outputs": [],
   "source": [
    "table[\"Policy\"] = df.groupby(['population','policy']).mean()[\"evac100\"].reset_index()[\"policy\"]\n",
    "table[\"Mean\"] = df.groupby(['population','policy']).mean()[\"evac100\"].reset_index()[\"evac100\"]\n",
    "table[\"Min\"] = df.groupby(['population','policy']).min()[\"evac100\"].reset_index()[\"evac100\"]\n",
    "table[\"Max\"] = df.groupby(['population','policy']).max()[\"evac100\"].reset_index()[\"evac100\"]\n",
    "table[\"Std\"] = df.groupby(['population','policy']).std()[\"evac100\"].reset_index()[\"evac100\"]"
   ]
  },
  {
   "cell_type": "code",
   "execution_count": 13,
   "metadata": {},
   "outputs": [
    {
     "data": {
      "text/html": [
       "<div>\n",
       "<style scoped>\n",
       "    .dataframe tbody tr th:only-of-type {\n",
       "        vertical-align: middle;\n",
       "    }\n",
       "\n",
       "    .dataframe tbody tr th {\n",
       "        vertical-align: top;\n",
       "    }\n",
       "\n",
       "    .dataframe thead th {\n",
       "        text-align: right;\n",
       "    }\n",
       "</style>\n",
       "<table border=\"1\" class=\"dataframe\">\n",
       "  <thead>\n",
       "    <tr style=\"text-align: right;\">\n",
       "      <th></th>\n",
       "      <th>Policy</th>\n",
       "      <th>Mean</th>\n",
       "      <th>Min</th>\n",
       "      <th>Max</th>\n",
       "      <th>Std</th>\n",
       "    </tr>\n",
       "  </thead>\n",
       "  <tbody>\n",
       "    <tr>\n",
       "      <th>0</th>\n",
       "      <td>Base</td>\n",
       "      <td>202.031852</td>\n",
       "      <td>147.0</td>\n",
       "      <td>296.0</td>\n",
       "      <td>36.318556</td>\n",
       "    </tr>\n",
       "    <tr>\n",
       "      <th>1</th>\n",
       "      <td>Dynamic Signs</td>\n",
       "      <td>175.745926</td>\n",
       "      <td>142.0</td>\n",
       "      <td>245.0</td>\n",
       "      <td>19.791647</td>\n",
       "    </tr>\n",
       "    <tr>\n",
       "      <th>2</th>\n",
       "      <td>Obstacles</td>\n",
       "      <td>200.435556</td>\n",
       "      <td>148.0</td>\n",
       "      <td>273.0</td>\n",
       "      <td>33.508990</td>\n",
       "    </tr>\n",
       "    <tr>\n",
       "      <th>3</th>\n",
       "      <td>One Way Traffic</td>\n",
       "      <td>207.239259</td>\n",
       "      <td>151.0</td>\n",
       "      <td>302.0</td>\n",
       "      <td>38.296217</td>\n",
       "    </tr>\n",
       "    <tr>\n",
       "      <th>4</th>\n",
       "      <td>Phased</td>\n",
       "      <td>218.179259</td>\n",
       "      <td>168.0</td>\n",
       "      <td>295.0</td>\n",
       "      <td>26.425113</td>\n",
       "    </tr>\n",
       "    <tr>\n",
       "      <th>5</th>\n",
       "      <td>Staff</td>\n",
       "      <td>214.117037</td>\n",
       "      <td>181.0</td>\n",
       "      <td>317.0</td>\n",
       "      <td>23.893163</td>\n",
       "    </tr>\n",
       "    <tr>\n",
       "      <th>6</th>\n",
       "      <td>Wider Both</td>\n",
       "      <td>189.071852</td>\n",
       "      <td>136.0</td>\n",
       "      <td>271.0</td>\n",
       "      <td>31.758984</td>\n",
       "    </tr>\n",
       "    <tr>\n",
       "      <th>7</th>\n",
       "      <td>Wider Exit</td>\n",
       "      <td>200.888889</td>\n",
       "      <td>146.0</td>\n",
       "      <td>291.0</td>\n",
       "      <td>35.828242</td>\n",
       "    </tr>\n",
       "    <tr>\n",
       "      <th>8</th>\n",
       "      <td>Wider Stairs</td>\n",
       "      <td>193.242963</td>\n",
       "      <td>140.0</td>\n",
       "      <td>281.0</td>\n",
       "      <td>33.568516</td>\n",
       "    </tr>\n",
       "    <tr>\n",
       "      <th>9</th>\n",
       "      <td>Base</td>\n",
       "      <td>349.396296</td>\n",
       "      <td>235.0</td>\n",
       "      <td>481.0</td>\n",
       "      <td>61.536160</td>\n",
       "    </tr>\n",
       "    <tr>\n",
       "      <th>10</th>\n",
       "      <td>Dynamic Signs</td>\n",
       "      <td>310.030370</td>\n",
       "      <td>244.0</td>\n",
       "      <td>417.0</td>\n",
       "      <td>35.037941</td>\n",
       "    </tr>\n",
       "    <tr>\n",
       "      <th>11</th>\n",
       "      <td>Obstacles</td>\n",
       "      <td>327.641481</td>\n",
       "      <td>228.0</td>\n",
       "      <td>443.0</td>\n",
       "      <td>54.479003</td>\n",
       "    </tr>\n",
       "    <tr>\n",
       "      <th>12</th>\n",
       "      <td>One Way Traffic</td>\n",
       "      <td>356.568148</td>\n",
       "      <td>241.0</td>\n",
       "      <td>487.0</td>\n",
       "      <td>65.038833</td>\n",
       "    </tr>\n",
       "    <tr>\n",
       "      <th>13</th>\n",
       "      <td>Phased</td>\n",
       "      <td>352.694074</td>\n",
       "      <td>253.0</td>\n",
       "      <td>483.0</td>\n",
       "      <td>61.497634</td>\n",
       "    </tr>\n",
       "    <tr>\n",
       "      <th>14</th>\n",
       "      <td>Staff</td>\n",
       "      <td>320.025926</td>\n",
       "      <td>250.0</td>\n",
       "      <td>437.0</td>\n",
       "      <td>35.265215</td>\n",
       "    </tr>\n",
       "    <tr>\n",
       "      <th>15</th>\n",
       "      <td>Wider Both</td>\n",
       "      <td>308.455556</td>\n",
       "      <td>211.0</td>\n",
       "      <td>432.0</td>\n",
       "      <td>61.226983</td>\n",
       "    </tr>\n",
       "    <tr>\n",
       "      <th>16</th>\n",
       "      <td>Wider Exit</td>\n",
       "      <td>320.407407</td>\n",
       "      <td>213.0</td>\n",
       "      <td>465.0</td>\n",
       "      <td>68.344318</td>\n",
       "    </tr>\n",
       "    <tr>\n",
       "      <th>17</th>\n",
       "      <td>Wider Stairs</td>\n",
       "      <td>333.267407</td>\n",
       "      <td>240.0</td>\n",
       "      <td>439.0</td>\n",
       "      <td>49.066818</td>\n",
       "    </tr>\n",
       "    <tr>\n",
       "      <th>18</th>\n",
       "      <td>Base</td>\n",
       "      <td>468.841481</td>\n",
       "      <td>338.0</td>\n",
       "      <td>618.0</td>\n",
       "      <td>76.555372</td>\n",
       "    </tr>\n",
       "    <tr>\n",
       "      <th>19</th>\n",
       "      <td>Dynamic Signs</td>\n",
       "      <td>429.920000</td>\n",
       "      <td>345.0</td>\n",
       "      <td>537.0</td>\n",
       "      <td>45.464014</td>\n",
       "    </tr>\n",
       "    <tr>\n",
       "      <th>20</th>\n",
       "      <td>Obstacles</td>\n",
       "      <td>454.547407</td>\n",
       "      <td>326.0</td>\n",
       "      <td>591.0</td>\n",
       "      <td>71.146621</td>\n",
       "    </tr>\n",
       "    <tr>\n",
       "      <th>21</th>\n",
       "      <td>One Way Traffic</td>\n",
       "      <td>483.790370</td>\n",
       "      <td>347.0</td>\n",
       "      <td>631.0</td>\n",
       "      <td>79.283418</td>\n",
       "    </tr>\n",
       "    <tr>\n",
       "      <th>22</th>\n",
       "      <td>Phased</td>\n",
       "      <td>472.241481</td>\n",
       "      <td>338.0</td>\n",
       "      <td>618.0</td>\n",
       "      <td>77.506131</td>\n",
       "    </tr>\n",
       "    <tr>\n",
       "      <th>23</th>\n",
       "      <td>Staff</td>\n",
       "      <td>435.046667</td>\n",
       "      <td>325.0</td>\n",
       "      <td>559.0</td>\n",
       "      <td>43.675755</td>\n",
       "    </tr>\n",
       "    <tr>\n",
       "      <th>24</th>\n",
       "      <td>Wider Both</td>\n",
       "      <td>420.880741</td>\n",
       "      <td>282.0</td>\n",
       "      <td>591.0</td>\n",
       "      <td>83.468925</td>\n",
       "    </tr>\n",
       "    <tr>\n",
       "      <th>25</th>\n",
       "      <td>Wider Exit</td>\n",
       "      <td>439.877778</td>\n",
       "      <td>301.0</td>\n",
       "      <td>623.0</td>\n",
       "      <td>93.534274</td>\n",
       "    </tr>\n",
       "    <tr>\n",
       "      <th>26</th>\n",
       "      <td>Wider Stairs</td>\n",
       "      <td>451.510370</td>\n",
       "      <td>332.0</td>\n",
       "      <td>607.0</td>\n",
       "      <td>65.309739</td>\n",
       "    </tr>\n",
       "  </tbody>\n",
       "</table>\n",
       "</div>"
      ],
      "text/plain": [
       "             Policy        Mean    Min    Max        Std\n",
       "0              Base  202.031852  147.0  296.0  36.318556\n",
       "1     Dynamic Signs  175.745926  142.0  245.0  19.791647\n",
       "2         Obstacles  200.435556  148.0  273.0  33.508990\n",
       "3   One Way Traffic  207.239259  151.0  302.0  38.296217\n",
       "4            Phased  218.179259  168.0  295.0  26.425113\n",
       "5             Staff  214.117037  181.0  317.0  23.893163\n",
       "6        Wider Both  189.071852  136.0  271.0  31.758984\n",
       "7        Wider Exit  200.888889  146.0  291.0  35.828242\n",
       "8      Wider Stairs  193.242963  140.0  281.0  33.568516\n",
       "9              Base  349.396296  235.0  481.0  61.536160\n",
       "10    Dynamic Signs  310.030370  244.0  417.0  35.037941\n",
       "11        Obstacles  327.641481  228.0  443.0  54.479003\n",
       "12  One Way Traffic  356.568148  241.0  487.0  65.038833\n",
       "13           Phased  352.694074  253.0  483.0  61.497634\n",
       "14            Staff  320.025926  250.0  437.0  35.265215\n",
       "15       Wider Both  308.455556  211.0  432.0  61.226983\n",
       "16       Wider Exit  320.407407  213.0  465.0  68.344318\n",
       "17     Wider Stairs  333.267407  240.0  439.0  49.066818\n",
       "18             Base  468.841481  338.0  618.0  76.555372\n",
       "19    Dynamic Signs  429.920000  345.0  537.0  45.464014\n",
       "20        Obstacles  454.547407  326.0  591.0  71.146621\n",
       "21  One Way Traffic  483.790370  347.0  631.0  79.283418\n",
       "22           Phased  472.241481  338.0  618.0  77.506131\n",
       "23            Staff  435.046667  325.0  559.0  43.675755\n",
       "24       Wider Both  420.880741  282.0  591.0  83.468925\n",
       "25       Wider Exit  439.877778  301.0  623.0  93.534274\n",
       "26     Wider Stairs  451.510370  332.0  607.0  65.309739"
      ]
     },
     "execution_count": 13,
     "metadata": {},
     "output_type": "execute_result"
    }
   ],
   "source": [
    "table"
   ]
  },
  {
   "cell_type": "code",
   "execution_count": null,
   "metadata": {},
   "outputs": [],
   "source": [
    "#df700 = df[df[\"population\"] == 700]\n",
    "#df700[\"population\"] = df700['population'].cat.remove_categories([1400,2100])\n",
    "\n",
    "#df1400 = df[df[\"population\"] == 1400]\n",
    "#df1400[\"population\"] = df1400['population'].cat.remove_categories([700,2100])\n",
    "\n",
    "# df2100 = df[df[\"population\"] == 2100]\n",
    "# df2100[\"population\"] = df2100['population'].cat.remove_categories([700,1400])"
   ]
  },
  {
   "cell_type": "code",
   "execution_count": null,
   "metadata": {},
   "outputs": [],
   "source": [
    "# fig, axs = plt.subplots(1, 3, figsize=(15, 10))\n",
    "# sns.boxplot(ax = axs[0], x=\"population\", y=\"evac100\", hue=\"policy\", data=df700)\n",
    "# sns.boxplot(ax = axs[1], x=\"population\", y=\"evac100\", hue=\"policy\", data=df1400)\n",
    "# sns.boxplot(ax = axs[2], x=\"population\", y=\"evac100\", hue=\"policy\", data=df2100)\n",
    "# axs[0].legend(loc=1)\n",
    "# axs[1].legend(loc=1)\n",
    "# axs[2].legend(loc=1)\n",
    "\n",
    "# fig.suptitle('Exploration of results')\n",
    "# #axs[0].set_title(\"Small building\")\n",
    "# #axs[1].set_title(\"Big building\")"
   ]
  },
  {
   "cell_type": "code",
   "execution_count": 33,
   "metadata": {},
   "outputs": [],
   "source": [
    "# fig, axs = plt.subplots(1, 3, figsize=(15, 10), sharey=False)\n",
    "# sns.boxplot(ax = axs[0], x=\"population\", y=\"evac95\", hue=\"policy\", data=df700)\n",
    "# sns.boxplot(ax = axs[1], x=\"population\", y=\"evac95\", hue=\"policy\", data=df1400)\n",
    "# sns.boxplot(ax = axs[2], x=\"population\", y=\"evac95\", hue=\"policy\", data=df2100)\n",
    "\n",
    "# fig.suptitle('Exploration of results')"
   ]
  },
  {
   "cell_type": "code",
   "execution_count": null,
   "metadata": {},
   "outputs": [],
   "source": [
    "# fig, axs = plt.subplots(1, 3, figsize=(15, 10), sharey=False)\n",
    "# sns.boxplot(ax = axs[0], x=\"population\", y=\"mean_density\", hue=\"policy\", data=df700)\n",
    "# sns.boxplot(ax = axs[1], x=\"population\", y=\"mean_density\", hue=\"policy\", data=df1400)\n",
    "# sns.boxplot(ax = axs[2], x=\"population\", y=\"mean_density\", hue=\"policy\", data=df2100)\n",
    "\n",
    "# fig.suptitle('Exploration of results')"
   ]
  },
  {
   "cell_type": "code",
   "execution_count": null,
   "metadata": {},
   "outputs": [],
   "source": [
    "# fig, axs = plt.subplots(1, 3, figsize=(15, 10), sharey=False)\n",
    "# sns.boxplot(ax = axs[0], x=\"population\", y=\"mean_walkspeed\", hue=\"policy\", data=df700)\n",
    "# sns.boxplot(ax = axs[1], x=\"population\", y=\"mean_walkspeed\", hue=\"policy\", data=df1400)\n",
    "# sns.boxplot(ax = axs[2], x=\"population\", y=\"mean_walkspeed\", hue=\"policy\", data=df2100)\n",
    "\n",
    "# fig.suptitle('Exploration of results')"
   ]
  },
  {
   "cell_type": "code",
   "execution_count": 34,
   "metadata": {},
   "outputs": [],
   "source": [
    "# fig, axs = plt.subplots(1, 3, figsize=(15, 10), sharey=False)\n",
    "# sns.boxplot(ax = axs[0], x=\"population\", y=\"mean_delay\", hue=\"policy\", data=df700)\n",
    "# sns.boxplot(ax = axs[1], x=\"population\", y=\"mean_delay\", hue=\"policy\", data=df1400)\n",
    "# sns.boxplot(ax = axs[2], x=\"population\", y=\"mean_delay\", hue=\"policy\", data=df2100)\n",
    "\n",
    "# fig.suptitle('Exploration of results')"
   ]
  },
  {
   "cell_type": "markdown",
   "metadata": {},
   "source": [
    "## OVERVIEW FAMILIARITY ##"
   ]
  },
  {
   "cell_type": "code",
   "execution_count": 14,
   "metadata": {},
   "outputs": [
    {
     "name": "stderr",
     "output_type": "stream",
     "text": [
      "C:\\Users\\marce\\Anaconda3\\lib\\site-packages\\ipykernel_launcher.py:2: SettingWithCopyWarning: \n",
      "A value is trying to be set on a copy of a slice from a DataFrame.\n",
      "Try using .loc[row_indexer,col_indexer] = value instead\n",
      "\n",
      "See the caveats in the documentation: https://pandas.pydata.org/pandas-docs/stable/user_guide/indexing.html#returning-a-view-versus-a-copy\n",
      "  \n",
      "C:\\Users\\marce\\Anaconda3\\lib\\site-packages\\ipykernel_launcher.py:5: SettingWithCopyWarning: \n",
      "A value is trying to be set on a copy of a slice from a DataFrame.\n",
      "Try using .loc[row_indexer,col_indexer] = value instead\n",
      "\n",
      "See the caveats in the documentation: https://pandas.pydata.org/pandas-docs/stable/user_guide/indexing.html#returning-a-view-versus-a-copy\n",
      "  \"\"\"\n",
      "C:\\Users\\marce\\Anaconda3\\lib\\site-packages\\ipykernel_launcher.py:8: SettingWithCopyWarning: \n",
      "A value is trying to be set on a copy of a slice from a DataFrame.\n",
      "Try using .loc[row_indexer,col_indexer] = value instead\n",
      "\n",
      "See the caveats in the documentation: https://pandas.pydata.org/pandas-docs/stable/user_guide/indexing.html#returning-a-view-versus-a-copy\n",
      "  \n",
      "C:\\Users\\marce\\Anaconda3\\lib\\site-packages\\ipykernel_launcher.py:11: SettingWithCopyWarning: \n",
      "A value is trying to be set on a copy of a slice from a DataFrame.\n",
      "Try using .loc[row_indexer,col_indexer] = value instead\n",
      "\n",
      "See the caveats in the documentation: https://pandas.pydata.org/pandas-docs/stable/user_guide/indexing.html#returning-a-view-versus-a-copy\n",
      "  # This is added back by InteractiveShellApp.init_path()\n",
      "C:\\Users\\marce\\Anaconda3\\lib\\site-packages\\ipykernel_launcher.py:14: SettingWithCopyWarning: \n",
      "A value is trying to be set on a copy of a slice from a DataFrame.\n",
      "Try using .loc[row_indexer,col_indexer] = value instead\n",
      "\n",
      "See the caveats in the documentation: https://pandas.pydata.org/pandas-docs/stable/user_guide/indexing.html#returning-a-view-versus-a-copy\n",
      "  \n"
     ]
    }
   ],
   "source": [
    "df_fam0 = df[df[\"familiarity\"] == 0.00]\n",
    "df_fam0[\"familiarity\"] = df_fam0['familiarity'].cat.remove_categories([0.25,0.50,0.75,1.00])\n",
    "\n",
    "df_fam25 = df[df[\"familiarity\"] == 0.25]\n",
    "df_fam25[\"familiarity\"] = df_fam25['familiarity'].cat.remove_categories([0.00,0.50,0.75,1.00])\n",
    "\n",
    "df_fam50 = df[df[\"familiarity\"] == 0.50]\n",
    "df_fam50[\"familiarity\"] = df_fam50['familiarity'].cat.remove_categories([0.00,0.25,0.75,1.00])\n",
    "\n",
    "df_fam75 = df[df[\"familiarity\"] == 0.75]\n",
    "df_fam75[\"familiarity\"] = df_fam75['familiarity'].cat.remove_categories([0.00,0.25,0.50,1.00])\n",
    "\n",
    "df_fam100 = df[df[\"familiarity\"] == 1.00]\n",
    "df_fam100[\"familiarity\"] = df_fam100['familiarity'].cat.remove_categories([0.00,0.25,0.50,0.75])"
   ]
  },
  {
   "cell_type": "code",
   "execution_count": 50,
   "metadata": {},
   "outputs": [
    {
     "data": {
      "image/png": "[encoded data removed]",
      "text/plain": [
       "<Figure size 1440x504 with 1 Axes>"
      ]
     },
     "metadata": {
      "needs_background": "light"
     },
     "output_type": "display_data"
    }
   ],
   "source": [
    "fig = plt.figure(figsize=(20,7))\n",
    "sns.boxplot(x=\"familiarity\", y=\"evac100\", hue=\"policy\", data=df)\n",
    "plt.legend(loc=3)\n",
    "plt.xlabel('Familiarity', fontsize=16)\n",
    "plt.ylabel('Evacuation time', fontsize=16)\n",
    "fig.savefig('overview-familiarity-strategies-saved.jpg')"
   ]
  },
  {
   "cell_type": "code",
   "execution_count": 16,
   "metadata": {},
   "outputs": [],
   "source": [
    "# fig, axs = plt.subplots(1, 5, figsize=(15, 10), sharey=True)\n",
    "# sns.boxplot(ax = axs[0], x=\"familiarity\", y=\"evac100\", hue=\"policy\", data=df_fam0)\n",
    "# sns.boxplot(ax = axs[1], x=\"familiarity\", y=\"evac100\", hue=\"policy\", data=df_fam25)\n",
    "# sns.boxplot(ax = axs[2], x=\"familiarity\", y=\"evac100\", hue=\"policy\", data=df_fam50)\n",
    "# sns.boxplot(ax = axs[3], x=\"familiarity\", y=\"evac100\", hue=\"policy\", data=df_fam75)\n",
    "# sns.boxplot(ax = axs[4], x=\"familiarity\", y=\"evac100\", hue=\"policy\", data=df_fam100)\n",
    "# axs[0].legend(loc=1)\n",
    "# axs[1].legend(loc=1)\n",
    "# axs[2].legend(loc=1)\n",
    "# axs[3].legend(loc=1)\n",
    "# axs[4].legend(loc=1)\n",
    "\n",
    "\n",
    "# fig.suptitle('Exploration of results')\n",
    "# #axs[0].set_title(\"Small building\")\n",
    "# #axs[1].set_title(\"Big building\")"
   ]
  },
  {
   "cell_type": "code",
   "execution_count": 17,
   "metadata": {},
   "outputs": [],
   "source": [
    "df_exitnumbers = df.groupby([\"familiarity\"]).mean()\n",
    "df_exitnumbers.drop(df_exitnumbers.columns[0:9], axis=1, inplace=True)"
   ]
  },
  {
   "cell_type": "code",
   "execution_count": 18,
   "metadata": {},
   "outputs": [
    {
     "data": {
      "text/html": [
       "<div>\n",
       "<style scoped>\n",
       "    .dataframe tbody tr th:only-of-type {\n",
       "        vertical-align: middle;\n",
       "    }\n",
       "\n",
       "    .dataframe tbody tr th {\n",
       "        vertical-align: top;\n",
       "    }\n",
       "\n",
       "    .dataframe thead th {\n",
       "        text-align: right;\n",
       "    }\n",
       "</style>\n",
       "<table border=\"1\" class=\"dataframe\">\n",
       "  <thead>\n",
       "    <tr style=\"text-align: right;\">\n",
       "      <th></th>\n",
       "      <th>exit1</th>\n",
       "      <th>exit2</th>\n",
       "      <th>exit3</th>\n",
       "      <th>exit4</th>\n",
       "      <th>exit5</th>\n",
       "    </tr>\n",
       "    <tr>\n",
       "      <th>familiarity</th>\n",
       "      <th></th>\n",
       "      <th></th>\n",
       "      <th></th>\n",
       "      <th></th>\n",
       "      <th></th>\n",
       "    </tr>\n",
       "  </thead>\n",
       "  <tbody>\n",
       "    <tr>\n",
       "      <th>0.0</th>\n",
       "      <td>3</td>\n",
       "      <td>32</td>\n",
       "      <td>28</td>\n",
       "      <td>1350</td>\n",
       "      <td>10</td>\n",
       "    </tr>\n",
       "    <tr>\n",
       "      <th>0.25</th>\n",
       "      <td>35</td>\n",
       "      <td>94</td>\n",
       "      <td>94</td>\n",
       "      <td>1096</td>\n",
       "      <td>48</td>\n",
       "    </tr>\n",
       "    <tr>\n",
       "      <th>0.5</th>\n",
       "      <td>70</td>\n",
       "      <td>161</td>\n",
       "      <td>166</td>\n",
       "      <td>924</td>\n",
       "      <td>90</td>\n",
       "    </tr>\n",
       "    <tr>\n",
       "      <th>0.75</th>\n",
       "      <td>102</td>\n",
       "      <td>221</td>\n",
       "      <td>232</td>\n",
       "      <td>702</td>\n",
       "      <td>127</td>\n",
       "    </tr>\n",
       "    <tr>\n",
       "      <th>1.0</th>\n",
       "      <td>137</td>\n",
       "      <td>288</td>\n",
       "      <td>305</td>\n",
       "      <td>503</td>\n",
       "      <td>169</td>\n",
       "    </tr>\n",
       "  </tbody>\n",
       "</table>\n",
       "</div>"
      ],
      "text/plain": [
       "             exit1  exit2  exit3  exit4  exit5\n",
       "familiarity                                   \n",
       "0.0              3     32     28   1350     10\n",
       "0.25            35     94     94   1096     48\n",
       "0.5             70    161    166    924     90\n",
       "0.75           102    221    232    702    127\n",
       "1.0            137    288    305    503    169"
      ]
     },
     "execution_count": 18,
     "metadata": {},
     "output_type": "execute_result"
    }
   ],
   "source": [
    "df_exitnumbers.astype('int32')"
   ]
  },
  {
   "cell_type": "code",
   "execution_count": 54,
   "metadata": {},
   "outputs": [
    {
     "data": {
      "text/plain": [
       "<matplotlib.axes._subplots.AxesSubplot at 0x28ae4c7fcf8>"
      ]
     },
     "execution_count": 54,
     "metadata": {},
     "output_type": "execute_result"
    },
    {
     "data": {
      "image/png": "[encoded data removed]",
      "text/plain": [
       "<Figure size 432x288 with 1 Axes>"
      ]
     },
     "metadata": {
      "needs_background": "light"
     },
     "output_type": "display_data"
    }
   ],
   "source": [
    "df_exitnumbers.T.plot()\n"
   ]
  },
  {
   "cell_type": "code",
   "execution_count": 20,
   "metadata": {},
   "outputs": [
    {
     "data": {
      "text/plain": [
       "<matplotlib.axes._subplots.AxesSubplot at 0x28aeaf77b00>"
      ]
     },
     "execution_count": 20,
     "metadata": {},
     "output_type": "execute_result"
    },
    {
     "data": {
      "image/png": "[encoded data removed]",
      "text/plain": [
       "<Figure size 432x288 with 1 Axes>"
      ]
     },
     "metadata": {
      "needs_background": "light"
     },
     "output_type": "display_data"
    }
   ],
   "source": [
    "df_exitnumbers.plot(kind='kde')"
   ]
  },
  {
   "cell_type": "code",
   "execution_count": 21,
   "metadata": {},
   "outputs": [
    {
     "data": {
      "text/plain": [
       "<matplotlib.axes._subplots.AxesSubplot at 0x28aeb024c50>"
      ]
     },
     "execution_count": 21,
     "metadata": {},
     "output_type": "execute_result"
    },
    {
     "data": {
      "image/png": "[encoded data removed]",
      "text/plain": [
       "<Figure size 432x288 with 1 Axes>"
      ]
     },
     "metadata": {
      "needs_background": "light"
     },
     "output_type": "display_data"
    }
   ],
   "source": [
    "sns.scatterplot(x=\"familiarity\", y=\"exit1\", hue=\"policy\", data=df)"
   ]
  },
  {
   "cell_type": "markdown",
   "metadata": {},
   "source": [
    "## STRATEGIES ##\n",
    "\n",
    "### GUIDING STRATEGIES ###"
   ]
  },
  {
   "cell_type": "code",
   "execution_count": 58,
   "metadata": {},
   "outputs": [
    {
     "data": {
      "text/html": [
       "<div>\n",
       "<style scoped>\n",
       "    .dataframe tbody tr th:only-of-type {\n",
       "        vertical-align: middle;\n",
       "    }\n",
       "\n",
       "    .dataframe tbody tr th {\n",
       "        vertical-align: top;\n",
       "    }\n",
       "\n",
       "    .dataframe thead th {\n",
       "        text-align: right;\n",
       "    }\n",
       "</style>\n",
       "<table border=\"1\" class=\"dataframe\">\n",
       "  <thead>\n",
       "    <tr style=\"text-align: right;\">\n",
       "      <th></th>\n",
       "      <th>compliance</th>\n",
       "      <th>familiarity</th>\n",
       "      <th>population</th>\n",
       "      <th>policy</th>\n",
       "      <th>model</th>\n",
       "      <th>evac100</th>\n",
       "      <th>evac95</th>\n",
       "      <th>evac75</th>\n",
       "      <th>evac50</th>\n",
       "      <th>mean_delay</th>\n",
       "      <th>min_delay</th>\n",
       "      <th>max_delay</th>\n",
       "      <th>mean_density</th>\n",
       "      <th>mean_walkspeed</th>\n",
       "      <th>exit1</th>\n",
       "      <th>exit2</th>\n",
       "      <th>exit3</th>\n",
       "      <th>exit4</th>\n",
       "      <th>exit5</th>\n",
       "      <th>Density</th>\n",
       "    </tr>\n",
       "  </thead>\n",
       "  <tbody>\n",
       "    <tr>\n",
       "      <th>1</th>\n",
       "      <td>0.90</td>\n",
       "      <td>1.00</td>\n",
       "      <td>700</td>\n",
       "      <td>Base</td>\n",
       "      <td>evacuation</td>\n",
       "      <td>165.0</td>\n",
       "      <td>143.0</td>\n",
       "      <td>97.0</td>\n",
       "      <td>63.0</td>\n",
       "      <td>13.017425</td>\n",
       "      <td>2.0</td>\n",
       "      <td>54.0</td>\n",
       "      <td>0.191612</td>\n",
       "      <td>0.561703</td>\n",
       "      <td>72.0</td>\n",
       "      <td>152.0</td>\n",
       "      <td>132.0</td>\n",
       "      <td>274.0</td>\n",
       "      <td>70.0</td>\n",
       "      <td>Low</td>\n",
       "    </tr>\n",
       "    <tr>\n",
       "      <th>2</th>\n",
       "      <td>0.40</td>\n",
       "      <td>0.25</td>\n",
       "      <td>1400</td>\n",
       "      <td>Base</td>\n",
       "      <td>evacuation</td>\n",
       "      <td>398.0</td>\n",
       "      <td>323.0</td>\n",
       "      <td>196.0</td>\n",
       "      <td>119.0</td>\n",
       "      <td>19.073829</td>\n",
       "      <td>2.0</td>\n",
       "      <td>184.0</td>\n",
       "      <td>0.224505</td>\n",
       "      <td>0.360335</td>\n",
       "      <td>38.0</td>\n",
       "      <td>75.0</td>\n",
       "      <td>83.0</td>\n",
       "      <td>1186.0</td>\n",
       "      <td>18.0</td>\n",
       "      <td>Medium</td>\n",
       "    </tr>\n",
       "    <tr>\n",
       "      <th>3</th>\n",
       "      <td>0.90</td>\n",
       "      <td>0.00</td>\n",
       "      <td>2100</td>\n",
       "      <td>Base</td>\n",
       "      <td>evacuation</td>\n",
       "      <td>585.0</td>\n",
       "      <td>493.0</td>\n",
       "      <td>332.0</td>\n",
       "      <td>214.0</td>\n",
       "      <td>29.330048</td>\n",
       "      <td>2.0</td>\n",
       "      <td>329.0</td>\n",
       "      <td>0.366072</td>\n",
       "      <td>0.230404</td>\n",
       "      <td>0.0</td>\n",
       "      <td>0.0</td>\n",
       "      <td>0.0</td>\n",
       "      <td>2100.0</td>\n",
       "      <td>0.0</td>\n",
       "      <td>High</td>\n",
       "    </tr>\n",
       "    <tr>\n",
       "      <th>4</th>\n",
       "      <td>0.90</td>\n",
       "      <td>0.25</td>\n",
       "      <td>700</td>\n",
       "      <td>Base</td>\n",
       "      <td>evacuation</td>\n",
       "      <td>234.0</td>\n",
       "      <td>201.0</td>\n",
       "      <td>133.0</td>\n",
       "      <td>86.0</td>\n",
       "      <td>13.238946</td>\n",
       "      <td>2.0</td>\n",
       "      <td>53.0</td>\n",
       "      <td>0.130749</td>\n",
       "      <td>0.575873</td>\n",
       "      <td>16.0</td>\n",
       "      <td>40.0</td>\n",
       "      <td>34.0</td>\n",
       "      <td>589.0</td>\n",
       "      <td>21.0</td>\n",
       "      <td>Low</td>\n",
       "    </tr>\n",
       "    <tr>\n",
       "      <th>5</th>\n",
       "      <td>0.40</td>\n",
       "      <td>0.25</td>\n",
       "      <td>1400</td>\n",
       "      <td>Base</td>\n",
       "      <td>evacuation</td>\n",
       "      <td>392.0</td>\n",
       "      <td>322.0</td>\n",
       "      <td>190.0</td>\n",
       "      <td>115.0</td>\n",
       "      <td>17.943487</td>\n",
       "      <td>3.0</td>\n",
       "      <td>165.0</td>\n",
       "      <td>0.206659</td>\n",
       "      <td>0.371319</td>\n",
       "      <td>34.0</td>\n",
       "      <td>63.0</td>\n",
       "      <td>80.0</td>\n",
       "      <td>1177.0</td>\n",
       "      <td>46.0</td>\n",
       "      <td>Medium</td>\n",
       "    </tr>\n",
       "    <tr>\n",
       "      <th>...</th>\n",
       "      <td>...</td>\n",
       "      <td>...</td>\n",
       "      <td>...</td>\n",
       "      <td>...</td>\n",
       "      <td>...</td>\n",
       "      <td>...</td>\n",
       "      <td>...</td>\n",
       "      <td>...</td>\n",
       "      <td>...</td>\n",
       "      <td>...</td>\n",
       "      <td>...</td>\n",
       "      <td>...</td>\n",
       "      <td>...</td>\n",
       "      <td>...</td>\n",
       "      <td>...</td>\n",
       "      <td>...</td>\n",
       "      <td>...</td>\n",
       "      <td>...</td>\n",
       "      <td>...</td>\n",
       "      <td>...</td>\n",
       "    </tr>\n",
       "    <tr>\n",
       "      <th>36445</th>\n",
       "      <td>0.40</td>\n",
       "      <td>0.00</td>\n",
       "      <td>2100</td>\n",
       "      <td>Staff</td>\n",
       "      <td>evacuation</td>\n",
       "      <td>470.0</td>\n",
       "      <td>386.0</td>\n",
       "      <td>249.0</td>\n",
       "      <td>169.0</td>\n",
       "      <td>24.000322</td>\n",
       "      <td>3.0</td>\n",
       "      <td>255.0</td>\n",
       "      <td>0.368129</td>\n",
       "      <td>0.287382</td>\n",
       "      <td>0.0</td>\n",
       "      <td>150.0</td>\n",
       "      <td>149.0</td>\n",
       "      <td>1699.0</td>\n",
       "      <td>102.0</td>\n",
       "      <td>High</td>\n",
       "    </tr>\n",
       "    <tr>\n",
       "      <th>36446</th>\n",
       "      <td>0.40</td>\n",
       "      <td>0.75</td>\n",
       "      <td>1400</td>\n",
       "      <td>Staff</td>\n",
       "      <td>evacuation</td>\n",
       "      <td>282.0</td>\n",
       "      <td>243.0</td>\n",
       "      <td>159.0</td>\n",
       "      <td>95.0</td>\n",
       "      <td>20.562768</td>\n",
       "      <td>2.0</td>\n",
       "      <td>171.0</td>\n",
       "      <td>0.372368</td>\n",
       "      <td>0.385329</td>\n",
       "      <td>93.0</td>\n",
       "      <td>255.0</td>\n",
       "      <td>262.0</td>\n",
       "      <td>668.0</td>\n",
       "      <td>122.0</td>\n",
       "      <td>Medium</td>\n",
       "    </tr>\n",
       "    <tr>\n",
       "      <th>36447</th>\n",
       "      <td>0.40</td>\n",
       "      <td>0.00</td>\n",
       "      <td>2100</td>\n",
       "      <td>Staff</td>\n",
       "      <td>evacuation</td>\n",
       "      <td>522.0</td>\n",
       "      <td>428.0</td>\n",
       "      <td>274.0</td>\n",
       "      <td>183.0</td>\n",
       "      <td>25.099744</td>\n",
       "      <td>2.0</td>\n",
       "      <td>275.0</td>\n",
       "      <td>0.349069</td>\n",
       "      <td>0.265988</td>\n",
       "      <td>0.0</td>\n",
       "      <td>109.0</td>\n",
       "      <td>69.0</td>\n",
       "      <td>1841.0</td>\n",
       "      <td>81.0</td>\n",
       "      <td>High</td>\n",
       "    </tr>\n",
       "    <tr>\n",
       "      <th>36448</th>\n",
       "      <td>0.65</td>\n",
       "      <td>0.50</td>\n",
       "      <td>700</td>\n",
       "      <td>Staff</td>\n",
       "      <td>evacuation</td>\n",
       "      <td>202.0</td>\n",
       "      <td>149.0</td>\n",
       "      <td>112.0</td>\n",
       "      <td>72.0</td>\n",
       "      <td>11.588619</td>\n",
       "      <td>2.0</td>\n",
       "      <td>36.0</td>\n",
       "      <td>0.137466</td>\n",
       "      <td>0.651899</td>\n",
       "      <td>37.0</td>\n",
       "      <td>91.0</td>\n",
       "      <td>103.0</td>\n",
       "      <td>414.0</td>\n",
       "      <td>55.0</td>\n",
       "      <td>Low</td>\n",
       "    </tr>\n",
       "    <tr>\n",
       "      <th>36449</th>\n",
       "      <td>0.65</td>\n",
       "      <td>1.00</td>\n",
       "      <td>1400</td>\n",
       "      <td>Staff</td>\n",
       "      <td>evacuation</td>\n",
       "      <td>322.0</td>\n",
       "      <td>265.0</td>\n",
       "      <td>163.0</td>\n",
       "      <td>105.0</td>\n",
       "      <td>23.548190</td>\n",
       "      <td>2.0</td>\n",
       "      <td>211.0</td>\n",
       "      <td>0.383212</td>\n",
       "      <td>0.321551</td>\n",
       "      <td>141.0</td>\n",
       "      <td>262.0</td>\n",
       "      <td>312.0</td>\n",
       "      <td>511.0</td>\n",
       "      <td>174.0</td>\n",
       "      <td>Medium</td>\n",
       "    </tr>\n",
       "  </tbody>\n",
       "</table>\n",
       "<p>36449 rows × 20 columns</p>\n",
       "</div>"
      ],
      "text/plain": [
       "      compliance familiarity population policy       model  evac100  evac95  \\\n",
       "1           0.90        1.00        700   Base  evacuation    165.0   143.0   \n",
       "2           0.40        0.25       1400   Base  evacuation    398.0   323.0   \n",
       "3           0.90        0.00       2100   Base  evacuation    585.0   493.0   \n",
       "4           0.90        0.25        700   Base  evacuation    234.0   201.0   \n",
       "5           0.40        0.25       1400   Base  evacuation    392.0   322.0   \n",
       "...          ...         ...        ...    ...         ...      ...     ...   \n",
       "36445       0.40        0.00       2100  Staff  evacuation    470.0   386.0   \n",
       "36446       0.40        0.75       1400  Staff  evacuation    282.0   243.0   \n",
       "36447       0.40        0.00       2100  Staff  evacuation    522.0   428.0   \n",
       "36448       0.65        0.50        700  Staff  evacuation    202.0   149.0   \n",
       "36449       0.65        1.00       1400  Staff  evacuation    322.0   265.0   \n",
       "\n",
       "       evac75  evac50  mean_delay  min_delay  max_delay  mean_density  \\\n",
       "1        97.0    63.0   13.017425        2.0       54.0      0.191612   \n",
       "2       196.0   119.0   19.073829        2.0      184.0      0.224505   \n",
       "3       332.0   214.0   29.330048        2.0      329.0      0.366072   \n",
       "4       133.0    86.0   13.238946        2.0       53.0      0.130749   \n",
       "5       190.0   115.0   17.943487        3.0      165.0      0.206659   \n",
       "...       ...     ...         ...        ...        ...           ...   \n",
       "36445   249.0   169.0   24.000322        3.0      255.0      0.368129   \n",
       "36446   159.0    95.0   20.562768        2.0      171.0      0.372368   \n",
       "36447   274.0   183.0   25.099744        2.0      275.0      0.349069   \n",
       "36448   112.0    72.0   11.588619        2.0       36.0      0.137466   \n",
       "36449   163.0   105.0   23.548190        2.0      211.0      0.383212   \n",
       "\n",
       "       mean_walkspeed  exit1  exit2  exit3   exit4  exit5 Density  \n",
       "1            0.561703   72.0  152.0  132.0   274.0   70.0     Low  \n",
       "2            0.360335   38.0   75.0   83.0  1186.0   18.0  Medium  \n",
       "3            0.230404    0.0    0.0    0.0  2100.0    0.0    High  \n",
       "4            0.575873   16.0   40.0   34.0   589.0   21.0     Low  \n",
       "5            0.371319   34.0   63.0   80.0  1177.0   46.0  Medium  \n",
       "...               ...    ...    ...    ...     ...    ...     ...  \n",
       "36445        0.287382    0.0  150.0  149.0  1699.0  102.0    High  \n",
       "36446        0.385329   93.0  255.0  262.0   668.0  122.0  Medium  \n",
       "36447        0.265988    0.0  109.0   69.0  1841.0   81.0    High  \n",
       "36448        0.651899   37.0   91.0  103.0   414.0   55.0     Low  \n",
       "36449        0.321551  141.0  262.0  312.0   511.0  174.0  Medium  \n",
       "\n",
       "[36449 rows x 20 columns]"
      ]
     },
     "execution_count": 58,
     "metadata": {},
     "output_type": "execute_result"
    }
   ],
   "source": [
    "df"
   ]
  },
  {
   "cell_type": "code",
   "execution_count": 59,
   "metadata": {},
   "outputs": [
    {
     "name": "stderr",
     "output_type": "stream",
     "text": [
      "C:\\Users\\marce\\Anaconda3\\lib\\site-packages\\pandas\\core\\arrays\\categorical.py:2487: FutureWarning: The `inplace` parameter in pandas.Categorical.remove_unused_categories is deprecated and will be removed in a future version.\n",
      "  res = method(*args, **kwargs)\n"
     ]
    }
   ],
   "source": [
    "df_guiding = df[(df[\"policy\"] == \"Base\") | (df[\"policy\"] == \"Dynamic Signs\") | (df[\"policy\"] == \"Staff\") | (df[\"policy\"] == \"One Way Traffic\") | (df[\"policy\"] == \"Phased\")]\n",
    "#df_guiding = df[(df[\"policy\"] == \"Base\") | (df[\"policy\"] == \"Dynamic Signs\") | (df[\"policy\"] == \"Staff\") | (df[\"policy\"] == \"One Way Traffic\") | (df[\"policy\"] == \"Phased\")]\n",
    "\n",
    "df_guiding[\"policy\"].cat.remove_unused_categories(inplace=True)"
   ]
  },
  {
   "cell_type": "code",
   "execution_count": 61,
   "metadata": {},
   "outputs": [
    {
     "data": {
      "image/png": "[encoded data removed]",
      "text/plain": [
       "<Figure size 1440x504 with 1 Axes>"
      ]
     },
     "metadata": {
      "needs_background": "light"
     },
     "output_type": "display_data"
    }
   ],
   "source": [
    "fig = plt.figure(figsize=(20,7))\n",
    "sns.boxplot(data=df_guiding, x = \"Density\", y = \"evac100\", hue=\"policy\")\n",
    "plt.xlabel('Crowd density', fontsize=16)\n",
    "plt.ylabel('Evacuation time', fontsize=16)\n",
    "fig.savefig('overview-guiding-strategies-saved.jpg')"
   ]
  },
  {
   "cell_type": "markdown",
   "metadata": {},
   "source": [
    "#### COMPLIANCE ####"
   ]
  },
  {
   "cell_type": "code",
   "execution_count": 63,
   "metadata": {},
   "outputs": [
    {
     "name": "stderr",
     "output_type": "stream",
     "text": [
      "C:\\Users\\marce\\Anaconda3\\lib\\site-packages\\pandas\\io\\formats\\format.py:1405: FutureWarning: Index.ravel returning ndarray is deprecated; in a future version this will return a view on self.\n",
      "  for val, m in zip(values.ravel(), mask.ravel())\n",
      "C:\\Users\\marce\\Anaconda3\\lib\\site-packages\\pandas\\io\\formats\\format.py:1405: FutureWarning: Index.ravel returning ndarray is deprecated; in a future version this will return a view on self.\n",
      "  for val, m in zip(values.ravel(), mask.ravel())\n"
     ]
    },
    {
     "data": {
      "image/png": "[encoded data removed]",
      "text/plain": [
       "<Figure size 1440x504 with 1 Axes>"
      ]
     },
     "metadata": {
      "needs_background": "light"
     },
     "output_type": "display_data"
    }
   ],
   "source": [
    "fig = plt.figure(figsize=(20,7))\n",
    "sns.boxplot(data=df_guiding, x = \"compliance\", y = \"evac100\", hue=\"policy\")\n",
    "plt.xlabel('Compliance', fontsize=16)\n",
    "plt.ylabel('Evacuation time', fontsize=16)\n",
    "fig.savefig('overview-guiding-strategies-compliance-saved.jpg')"
   ]
  },
  {
   "cell_type": "markdown",
   "metadata": {},
   "source": [
    "#### FAMILIARITY ####"
   ]
  },
  {
   "cell_type": "code",
   "execution_count": 64,
   "metadata": {},
   "outputs": [
    {
     "name": "stderr",
     "output_type": "stream",
     "text": [
      "C:\\Users\\marce\\Anaconda3\\lib\\site-packages\\pandas\\io\\formats\\format.py:1405: FutureWarning: Index.ravel returning ndarray is deprecated; in a future version this will return a view on self.\n",
      "  for val, m in zip(values.ravel(), mask.ravel())\n",
      "C:\\Users\\marce\\Anaconda3\\lib\\site-packages\\pandas\\io\\formats\\format.py:1405: FutureWarning: Index.ravel returning ndarray is deprecated; in a future version this will return a view on self.\n",
      "  for val, m in zip(values.ravel(), mask.ravel())\n"
     ]
    },
    {
     "data": {
      "image/png": "[encoded data removed]",
      "text/plain": [
       "<Figure size 1440x504 with 1 Axes>"
      ]
     },
     "metadata": {
      "needs_background": "light"
     },
     "output_type": "display_data"
    }
   ],
   "source": [
    "fig = plt.figure(figsize=(20,7))\n",
    "sns.boxplot(data=df_guiding, x = \"familiarity\", y = \"evac100\", hue=\"policy\")\n",
    "plt.xlabel('Familiarity', fontsize=16)\n",
    "plt.ylabel('Evacuation time', fontsize=16)\n",
    "fig.savefig('overview-guiding-strategies-familiarity-saved.jpg')"
   ]
  },
  {
   "cell_type": "code",
   "execution_count": 26,
   "metadata": {},
   "outputs": [],
   "source": [
    "# fig, axs = plt.subplots(1, 3, figsize=(15, 10), sharey=False)\n",
    "# sns.swarmplot(ax=axs[0], data=df700[df700[\"policy\"] == \"Dynamic Signs\"], x=\"familiarity\", y=\"evac100\", hue=\"compliance\")\n",
    "# sns.swarmplot(ax=axs[1], data=df1400[df1400[\"policy\"] == \"Dynamic Signs\"], x=\"familiarity\", y=\"evac100\", hue=\"compliance\")\n",
    "# sns.swarmplot(ax=axs[2], data=df2100[df2100[\"policy\"] == \"Dynamic Signs\"], x=\"familiarity\", y=\"evac100\", hue=\"compliance\")"
   ]
  },
  {
   "cell_type": "code",
   "execution_count": 27,
   "metadata": {},
   "outputs": [],
   "source": [
    "# fig, axs = plt.subplots(1, 3, figsize=(15, 10), sharey=False)\n",
    "# sns.swarmplot(ax=axs[0], data=df700[df700[\"policy\"] == \"Dynamic Signs\"], x=\"familiarity\", y=\"evac100\", hue=\"compliance\")\n",
    "# sns.swarmplot(ax=axs[1], data=df1400[df1400[\"policy\"] == \"Dynamic Signs\"], x=\"familiarity\", y=\"evac100\", hue=\"compliance\")\n",
    "# sns.swarmplot(ax=axs[2], data=df2100[df2100[\"policy\"] == \"Dynamic Signs\"], x=\"familiarity\", y=\"evac100\", hue=\"compliance\")"
   ]
  },
  {
   "cell_type": "markdown",
   "metadata": {},
   "source": [
    "### THROUGHPUT STRATEGIES ###"
   ]
  },
  {
   "cell_type": "code",
   "execution_count": 65,
   "metadata": {},
   "outputs": [
    {
     "data": {
      "text/html": [
       "<div>\n",
       "<style scoped>\n",
       "    .dataframe tbody tr th:only-of-type {\n",
       "        vertical-align: middle;\n",
       "    }\n",
       "\n",
       "    .dataframe tbody tr th {\n",
       "        vertical-align: top;\n",
       "    }\n",
       "\n",
       "    .dataframe thead th {\n",
       "        text-align: right;\n",
       "    }\n",
       "</style>\n",
       "<table border=\"1\" class=\"dataframe\">\n",
       "  <thead>\n",
       "    <tr style=\"text-align: right;\">\n",
       "      <th></th>\n",
       "      <th>evac100</th>\n",
       "      <th>evac95</th>\n",
       "      <th>evac75</th>\n",
       "      <th>evac50</th>\n",
       "      <th>mean_delay</th>\n",
       "      <th>min_delay</th>\n",
       "      <th>max_delay</th>\n",
       "      <th>mean_density</th>\n",
       "      <th>mean_walkspeed</th>\n",
       "      <th>exit1</th>\n",
       "      <th>exit2</th>\n",
       "      <th>exit3</th>\n",
       "      <th>exit4</th>\n",
       "      <th>exit5</th>\n",
       "    </tr>\n",
       "    <tr>\n",
       "      <th>policy</th>\n",
       "      <th></th>\n",
       "      <th></th>\n",
       "      <th></th>\n",
       "      <th></th>\n",
       "      <th></th>\n",
       "      <th></th>\n",
       "      <th></th>\n",
       "      <th></th>\n",
       "      <th></th>\n",
       "      <th></th>\n",
       "      <th></th>\n",
       "      <th></th>\n",
       "      <th></th>\n",
       "      <th></th>\n",
       "    </tr>\n",
       "  </thead>\n",
       "  <tbody>\n",
       "    <tr>\n",
       "      <th>Base</th>\n",
       "      <td>340.048654</td>\n",
       "      <td>286.104223</td>\n",
       "      <td>180.976043</td>\n",
       "      <td>114.281798</td>\n",
       "      <td>20.318908</td>\n",
       "      <td>2.252902</td>\n",
       "      <td>172.996048</td>\n",
       "      <td>0.302082</td>\n",
       "      <td>0.405892</td>\n",
       "      <td>69.562608</td>\n",
       "      <td>143.156335</td>\n",
       "      <td>149.719684</td>\n",
       "      <td>955.190170</td>\n",
       "      <td>82.196839</td>\n",
       "    </tr>\n",
       "    <tr>\n",
       "      <th>Dynamic Signs</th>\n",
       "      <td>305.232099</td>\n",
       "      <td>256.004444</td>\n",
       "      <td>167.668395</td>\n",
       "      <td>105.629877</td>\n",
       "      <td>21.028735</td>\n",
       "      <td>2.200988</td>\n",
       "      <td>174.840247</td>\n",
       "      <td>0.349786</td>\n",
       "      <td>0.430746</td>\n",
       "      <td>72.277037</td>\n",
       "      <td>230.103210</td>\n",
       "      <td>220.108642</td>\n",
       "      <td>775.750617</td>\n",
       "      <td>101.758025</td>\n",
       "    </tr>\n",
       "    <tr>\n",
       "      <th>Obstacles</th>\n",
       "      <td>327.541481</td>\n",
       "      <td>279.848395</td>\n",
       "      <td>177.541975</td>\n",
       "      <td>113.215556</td>\n",
       "      <td>24.813760</td>\n",
       "      <td>2.189136</td>\n",
       "      <td>187.137778</td>\n",
       "      <td>0.256957</td>\n",
       "      <td>0.412859</td>\n",
       "      <td>68.073086</td>\n",
       "      <td>142.366667</td>\n",
       "      <td>150.469383</td>\n",
       "      <td>957.852099</td>\n",
       "      <td>81.236790</td>\n",
       "    </tr>\n",
       "    <tr>\n",
       "      <th>One Way Traffic</th>\n",
       "      <td>349.199259</td>\n",
       "      <td>293.382716</td>\n",
       "      <td>186.346173</td>\n",
       "      <td>117.632840</td>\n",
       "      <td>19.644391</td>\n",
       "      <td>2.232593</td>\n",
       "      <td>164.143704</td>\n",
       "      <td>0.288746</td>\n",
       "      <td>0.403311</td>\n",
       "      <td>72.853580</td>\n",
       "      <td>139.489136</td>\n",
       "      <td>156.555309</td>\n",
       "      <td>944.952099</td>\n",
       "      <td>86.148889</td>\n",
       "    </tr>\n",
       "    <tr>\n",
       "      <th>Phased</th>\n",
       "      <td>347.704938</td>\n",
       "      <td>293.751605</td>\n",
       "      <td>185.390370</td>\n",
       "      <td>115.687654</td>\n",
       "      <td>18.374350</td>\n",
       "      <td>2.259753</td>\n",
       "      <td>152.548889</td>\n",
       "      <td>0.265344</td>\n",
       "      <td>0.430278</td>\n",
       "      <td>69.441235</td>\n",
       "      <td>142.638765</td>\n",
       "      <td>149.950370</td>\n",
       "      <td>955.609383</td>\n",
       "      <td>82.357778</td>\n",
       "    </tr>\n",
       "    <tr>\n",
       "      <th>Staff</th>\n",
       "      <td>323.063210</td>\n",
       "      <td>263.711111</td>\n",
       "      <td>173.139753</td>\n",
       "      <td>108.640247</td>\n",
       "      <td>20.094078</td>\n",
       "      <td>2.258519</td>\n",
       "      <td>163.389877</td>\n",
       "      <td>0.319677</td>\n",
       "      <td>0.425377</td>\n",
       "      <td>72.780988</td>\n",
       "      <td>211.023457</td>\n",
       "      <td>211.530370</td>\n",
       "      <td>782.681235</td>\n",
       "      <td>121.742222</td>\n",
       "    </tr>\n",
       "    <tr>\n",
       "      <th>Wider Both</th>\n",
       "      <td>306.136049</td>\n",
       "      <td>250.482963</td>\n",
       "      <td>156.470617</td>\n",
       "      <td>98.621235</td>\n",
       "      <td>18.135650</td>\n",
       "      <td>2.202716</td>\n",
       "      <td>128.423457</td>\n",
       "      <td>0.186945</td>\n",
       "      <td>0.439130</td>\n",
       "      <td>66.800741</td>\n",
       "      <td>142.716296</td>\n",
       "      <td>151.488395</td>\n",
       "      <td>956.525926</td>\n",
       "      <td>82.467407</td>\n",
       "    </tr>\n",
       "    <tr>\n",
       "      <th>Wider Exit</th>\n",
       "      <td>320.391358</td>\n",
       "      <td>265.315802</td>\n",
       "      <td>164.184938</td>\n",
       "      <td>100.940988</td>\n",
       "      <td>16.262058</td>\n",
       "      <td>2.168889</td>\n",
       "      <td>134.070617</td>\n",
       "      <td>0.224616</td>\n",
       "      <td>0.434471</td>\n",
       "      <td>68.321235</td>\n",
       "      <td>143.820247</td>\n",
       "      <td>151.448395</td>\n",
       "      <td>953.788889</td>\n",
       "      <td>82.621235</td>\n",
       "    </tr>\n",
       "    <tr>\n",
       "      <th>Wider Stairs</th>\n",
       "      <td>326.006914</td>\n",
       "      <td>273.025185</td>\n",
       "      <td>175.630123</td>\n",
       "      <td>112.901481</td>\n",
       "      <td>22.593112</td>\n",
       "      <td>2.284938</td>\n",
       "      <td>165.286420</td>\n",
       "      <td>0.242667</td>\n",
       "      <td>0.406282</td>\n",
       "      <td>68.104198</td>\n",
       "      <td>141.538765</td>\n",
       "      <td>149.765926</td>\n",
       "      <td>958.792593</td>\n",
       "      <td>81.795309</td>\n",
       "    </tr>\n",
       "  </tbody>\n",
       "</table>\n",
       "</div>"
      ],
      "text/plain": [
       "                    evac100      evac95      evac75      evac50  mean_delay  \\\n",
       "policy                                                                        \n",
       "Base             340.048654  286.104223  180.976043  114.281798   20.318908   \n",
       "Dynamic Signs    305.232099  256.004444  167.668395  105.629877   21.028735   \n",
       "Obstacles        327.541481  279.848395  177.541975  113.215556   24.813760   \n",
       "One Way Traffic  349.199259  293.382716  186.346173  117.632840   19.644391   \n",
       "Phased           347.704938  293.751605  185.390370  115.687654   18.374350   \n",
       "Staff            323.063210  263.711111  173.139753  108.640247   20.094078   \n",
       "Wider Both       306.136049  250.482963  156.470617   98.621235   18.135650   \n",
       "Wider Exit       320.391358  265.315802  164.184938  100.940988   16.262058   \n",
       "Wider Stairs     326.006914  273.025185  175.630123  112.901481   22.593112   \n",
       "\n",
       "                 min_delay   max_delay  mean_density  mean_walkspeed  \\\n",
       "policy                                                                 \n",
       "Base              2.252902  172.996048      0.302082        0.405892   \n",
       "Dynamic Signs     2.200988  174.840247      0.349786        0.430746   \n",
       "Obstacles         2.189136  187.137778      0.256957        0.412859   \n",
       "One Way Traffic   2.232593  164.143704      0.288746        0.403311   \n",
       "Phased            2.259753  152.548889      0.265344        0.430278   \n",
       "Staff             2.258519  163.389877      0.319677        0.425377   \n",
       "Wider Both        2.202716  128.423457      0.186945        0.439130   \n",
       "Wider Exit        2.168889  134.070617      0.224616        0.434471   \n",
       "Wider Stairs      2.284938  165.286420      0.242667        0.406282   \n",
       "\n",
       "                     exit1       exit2       exit3       exit4       exit5  \n",
       "policy                                                                      \n",
       "Base             69.562608  143.156335  149.719684  955.190170   82.196839  \n",
       "Dynamic Signs    72.277037  230.103210  220.108642  775.750617  101.758025  \n",
       "Obstacles        68.073086  142.366667  150.469383  957.852099   81.236790  \n",
       "One Way Traffic  72.853580  139.489136  156.555309  944.952099   86.148889  \n",
       "Phased           69.441235  142.638765  149.950370  955.609383   82.357778  \n",
       "Staff            72.780988  211.023457  211.530370  782.681235  121.742222  \n",
       "Wider Both       66.800741  142.716296  151.488395  956.525926   82.467407  \n",
       "Wider Exit       68.321235  143.820247  151.448395  953.788889   82.621235  \n",
       "Wider Stairs     68.104198  141.538765  149.765926  958.792593   81.795309  "
      ]
     },
     "execution_count": 65,
     "metadata": {},
     "output_type": "execute_result"
    }
   ],
   "source": [
    "df.groupby(\"policy\").mean()"
   ]
  },
  {
   "cell_type": "code",
   "execution_count": 66,
   "metadata": {},
   "outputs": [
    {
     "name": "stderr",
     "output_type": "stream",
     "text": [
      "C:\\Users\\marce\\Anaconda3\\lib\\site-packages\\pandas\\core\\arrays\\categorical.py:2487: FutureWarning: The `inplace` parameter in pandas.Categorical.remove_unused_categories is deprecated and will be removed in a future version.\n",
      "  res = method(*args, **kwargs)\n"
     ]
    }
   ],
   "source": [
    "df_flow = df[(df[\"policy\"] == \"Base\") | (df[\"policy\"] == \"Obstacles\") | (df[\"policy\"] == \"Wider Stairs\") | (df[\"policy\"] == \"Wider Exit\") | (df[\"policy\"] == \"Wider Both\")]\n",
    "#df_guiding = df[(df[\"policy\"] == \"Base\") | (df[\"policy\"] == \"Dynamic Signs\") | (df[\"policy\"] == \"Staff\") | (df[\"policy\"] == \"One Way Traffic\") | (df[\"policy\"] == \"Phased\")]\n",
    "\n",
    "df_flow[\"policy\"].cat.remove_unused_categories(inplace=True)"
   ]
  },
  {
   "cell_type": "markdown",
   "metadata": {},
   "source": [
    "#### Population ####"
   ]
  },
  {
   "cell_type": "code",
   "execution_count": 67,
   "metadata": {},
   "outputs": [
    {
     "data": {
      "image/png": "[encoded data removed]",
      "text/plain": [
       "<Figure size 1440x504 with 1 Axes>"
      ]
     },
     "metadata": {
      "needs_background": "light"
     },
     "output_type": "display_data"
    }
   ],
   "source": [
    "fig = plt.figure(figsize=(20,7))\n",
    "sns.boxplot(data=df_flow, x = \"Density\", y = \"evac100\", hue=\"policy\")\n",
    "plt.xlabel('Crowd density', fontsize=16)\n",
    "plt.ylabel('Evacuation time', fontsize=16)\n",
    "fig.savefig('overview-bottleneck-strategies-population-saved.jpg')"
   ]
  },
  {
   "cell_type": "markdown",
   "metadata": {},
   "source": [
    "#### Familiarity ####"
   ]
  },
  {
   "cell_type": "code",
   "execution_count": 68,
   "metadata": {},
   "outputs": [
    {
     "name": "stderr",
     "output_type": "stream",
     "text": [
      "C:\\Users\\marce\\Anaconda3\\lib\\site-packages\\pandas\\io\\formats\\format.py:1405: FutureWarning: Index.ravel returning ndarray is deprecated; in a future version this will return a view on self.\n",
      "  for val, m in zip(values.ravel(), mask.ravel())\n",
      "C:\\Users\\marce\\Anaconda3\\lib\\site-packages\\pandas\\io\\formats\\format.py:1405: FutureWarning: Index.ravel returning ndarray is deprecated; in a future version this will return a view on self.\n",
      "  for val, m in zip(values.ravel(), mask.ravel())\n"
     ]
    },
    {
     "data": {
      "image/png": "[encoded data removed]",
      "text/plain": [
       "<Figure size 1440x504 with 1 Axes>"
      ]
     },
     "metadata": {
      "needs_background": "light"
     },
     "output_type": "display_data"
    }
   ],
   "source": [
    "fig = plt.figure(figsize=(20,7))\n",
    "sns.boxplot(data=df_flow, x = \"familiarity\", y = \"evac100\", hue=\"policy\")\n",
    "plt.xlabel('Familiarity', fontsize=16)\n",
    "plt.ylabel('Evacuation time', fontsize=16)\n",
    "fig.savefig('overview-bottleneck-strategies-familiarity-saved.jpg')"
   ]
  },
  {
   "cell_type": "code",
   "execution_count": null,
   "metadata": {},
   "outputs": [],
   "source": []
  }
 ],
 "metadata": {
  "kernelspec": {
   "display_name": "Python 3",
   "language": "python",
   "name": "python3"
  },
  "language_info": {
   "codemirror_mode": {
    "name": "ipython",
    "version": 3
   },
   "file_extension": ".py",
   "mimetype": "text/x-python",
   "name": "python",
   "nbconvert_exporter": "python",
   "pygments_lexer": "ipython3",
   "version": "3.7.3"
  }
 },
 "nbformat": 4,
 "nbformat_minor": 2
}
