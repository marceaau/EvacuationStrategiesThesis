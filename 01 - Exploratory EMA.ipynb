{
 "cells": [
  {
   "cell_type": "code",
   "execution_count": 1,
   "metadata": {},
   "outputs": [
    {
     "name": "stderr",
     "output_type": "stream",
     "text": [
      "C:\\Users\\marce\\Anaconda3\\lib\\site-packages\\ema_workbench\\connectors\\__init__.py:17: ImportWarning: vensim connector not available\n",
      "  warnings.warn(\"vensim connector not available\", ImportWarning)\n"
     ]
    }
   ],
   "source": [
    "import pandas as pd\n",
    "import numpy as np\n",
    "import matplotlib.pyplot as plt\n",
    "\n",
    "from ema_workbench import (Model, RealParameter, IntegerParameter, BooleanParameter, CategoricalParameter, ArrayOutcome, ScalarOutcome, TimeSeriesOutcome, perform_experiments, Constant,\n",
    "                           ema_logging)\n",
    "from ema_workbench import (MultiprocessingEvaluator, Policy, Scenario)\n",
    "\n",
    "\n",
    "from ema_workbench.connectors.netlogo import NetLogoModel\n",
    "from ema_workbench import SequentialEvaluator, MultiprocessingEvaluator\n",
    "from ema_workbench.util import ema_logging, utilities\n"
   ]
  },
  {
   "cell_type": "code",
   "execution_count": 2,
   "metadata": {},
   "outputs": [],
   "source": [
    "ema_logging.log_to_stderr(ema_logging.INFO)\n",
    "\n",
    "model = NetLogoModel('evacuation',\n",
    "                         wd=\"./model\",\n",
    "                         model_file=\"model.nlogo\")\n",
    "\n",
    "model.run_length = 800\n",
    "model.replications = 1\n",
    "\n",
    "model.uncertainties = [IntegerParameter(\"population\", 400, 2200),\n",
    "                       RealParameter(\"familiarity\", 0, 1)]\n",
    "\n",
    "model.outcomes = [ArrayOutcome('evactimes'), ArrayOutcome('densities'), ArrayOutcome('evacuees_per_exit')]\n",
    "\n",
    "model.levers = [BooleanParameter('wider-exits'),\n",
    "               BooleanParameter('wider-stairs'),\n",
    "               BooleanParameter('obstacles'),\n",
    "               BooleanParameter('one-way-traffic'),\n",
    "               BooleanParameter('phased-evacuation'),\n",
    "               BooleanParameter('dynamic-signs'),\n",
    "               BooleanParameter('evacuee-staff')]"
   ]
  },
  {
   "cell_type": "code",
   "execution_count": 3,
   "metadata": {},
   "outputs": [],
   "source": [
    "policy_basecase = [Policy(\"Base\", **{lever.name: \"false\" for lever in model.levers})]"
   ]
  },
  {
   "cell_type": "code",
   "execution_count": null,
   "metadata": {},
   "outputs": [],
   "source": [
    "ema_logging.log_to_stderr(ema_logging.INFO)\n",
    "\n",
    "with MultiprocessingEvaluator(model, n_processes = 8) as evaluator:\n",
    "    results = evaluator.perform_experiments(scenarios=500, policies=policy_basecase)\n",
    "    \n",
    "utilities.save_results(results, 'results/200000ScenariosNoPolicy.csv')"
   ]
  },
  {
   "cell_type": "code",
   "execution_count": 4,
   "metadata": {},
   "outputs": [],
   "source": [
    "model.uncertainties = [CategoricalParameter(\"population\", [700, 1400, 2100]),\n",
    "                       CategoricalParameter(\"compliance\", [0.4, 0.65, 0.90]),\n",
    "                       CategoricalParameter(\"familiarity\", [0, 0.25, 0.5, 0.75, 1])]\n",
    "\n",
    "model.outcomes = [ArrayOutcome('evactimes'), ArrayOutcome('densities'), ArrayOutcome('evacuees_per_exit')]\n",
    "\n",
    "model.levers = [BooleanParameter('wider-exits'),\n",
    "               BooleanParameter('wider-stairs'),\n",
    "               BooleanParameter('obstacles'),\n",
    "               BooleanParameter('one-way-traffic'),\n",
    "               BooleanParameter('phased-evacuation'),\n",
    "               BooleanParameter('dynamic-signs'),\n",
    "               BooleanParameter('evacuee-staff')]"
   ]
  },
  {
   "cell_type": "code",
   "execution_count": 5,
   "metadata": {},
   "outputs": [],
   "source": [
    "dict_list = [{'wider-exits':\"false\", 'wider-stairs':\"false\", 'obstacles':\"false\", 'one-way-traffic':\"false\",'phased-evacuation':\"false\",'dynamic-signs':\"false\",'evacuee-staff':\"false\"},\n",
    "            {'wider-exits':\"true\", 'wider-stairs':\"false\", 'obstacles':\"false\", 'one-way-traffic':\"false\",'phased-evacuation':\"false\",'dynamic-signs':\"false\",'evacuee-staff':\"false\"},\n",
    "            {'wider-exits':\"false\", 'wider-stairs':\"true\", 'obstacles':\"false\", 'one-way-traffic':\"false\",'phased-evacuation':\"false\",'dynamic-signs':\"false\",'evacuee-staff':\"false\"},\n",
    "            {'wider-exits':\"true\", 'wider-stairs':\"true\", 'obstacles':\"false\", 'one-way-traffic':\"false\",'phased-evacuation':\"false\",'dynamic-signs':\"false\",'evacuee-staff':\"false\"},\n",
    "            {'wider-exits':\"false\", 'wider-stairs':\"false\", 'obstacles':\"true\", 'one-way-traffic':\"false\",'phased-evacuation':\"false\",'dynamic-signs':\"false\",'evacuee-staff':\"false\"},\n",
    "            {'wider-exits':\"false\", 'wider-stairs':\"false\", 'obstacles':\"false\", 'one-way-traffic':\"true\",'phased-evacuation':\"false\",'dynamic-signs':\"false\",'evacuee-staff':\"false\"},\n",
    "            {'wider-exits':\"false\", 'wider-stairs':\"false\", 'obstacles':\"false\", 'one-way-traffic':\"false\",'phased-evacuation':\"true\",'dynamic-signs':\"false\",'evacuee-staff':\"false\"},\n",
    "            {'wider-exits':\"false\", 'wider-stairs':\"false\", 'obstacles':\"false\", 'one-way-traffic':\"false\",'phased-evacuation':\"false\",'dynamic-signs':\"true\",'evacuee-staff':\"false\"},\n",
    "            {'wider-exits':\"false\", 'wider-stairs':\"false\", 'obstacles':\"false\", 'one-way-traffic':\"false\",'phased-evacuation':\"false\",'dynamic-signs':\"false\",'evacuee-staff':\"true\"}]\n",
    "\n",
    "name_list = [\"Base\", \"Wider Exit\" , \"Wider Stairs\", \"Wider Both\", \"Obstacles\", \"One Way Traffic\", \"Phased\", \"Dynamic Signs\", \"Staff\"]\n",
    "policy_list = []\n",
    "\n",
    "for x, policy in enumerate(dict_list):\n",
    "    policy_list.append(Policy(name_list[x], **policy))"
   ]
  },
  {
   "cell_type": "code",
   "execution_count": 6,
   "metadata": {},
   "outputs": [
    {
     "data": {
      "text/plain": [
       "[Policy({'wider-exits': 'false', 'wider-stairs': 'false', 'obstacles': 'false', 'one-way-traffic': 'false', 'phased-evacuation': 'false', 'dynamic-signs': 'false', 'evacuee-staff': 'false'}),\n",
       " Policy({'wider-exits': 'true', 'wider-stairs': 'false', 'obstacles': 'false', 'one-way-traffic': 'false', 'phased-evacuation': 'false', 'dynamic-signs': 'false', 'evacuee-staff': 'false'}),\n",
       " Policy({'wider-exits': 'false', 'wider-stairs': 'true', 'obstacles': 'false', 'one-way-traffic': 'false', 'phased-evacuation': 'false', 'dynamic-signs': 'false', 'evacuee-staff': 'false'}),\n",
       " Policy({'wider-exits': 'true', 'wider-stairs': 'true', 'obstacles': 'false', 'one-way-traffic': 'false', 'phased-evacuation': 'false', 'dynamic-signs': 'false', 'evacuee-staff': 'false'}),\n",
       " Policy({'wider-exits': 'false', 'wider-stairs': 'false', 'obstacles': 'true', 'one-way-traffic': 'false', 'phased-evacuation': 'false', 'dynamic-signs': 'false', 'evacuee-staff': 'false'}),\n",
       " Policy({'wider-exits': 'false', 'wider-stairs': 'false', 'obstacles': 'false', 'one-way-traffic': 'true', 'phased-evacuation': 'false', 'dynamic-signs': 'false', 'evacuee-staff': 'false'}),\n",
       " Policy({'wider-exits': 'false', 'wider-stairs': 'false', 'obstacles': 'false', 'one-way-traffic': 'false', 'phased-evacuation': 'true', 'dynamic-signs': 'false', 'evacuee-staff': 'false'}),\n",
       " Policy({'wider-exits': 'false', 'wider-stairs': 'false', 'obstacles': 'false', 'one-way-traffic': 'false', 'phased-evacuation': 'false', 'dynamic-signs': 'true', 'evacuee-staff': 'false'}),\n",
       " Policy({'wider-exits': 'false', 'wider-stairs': 'false', 'obstacles': 'false', 'one-way-traffic': 'false', 'phased-evacuation': 'false', 'dynamic-signs': 'false', 'evacuee-staff': 'true'})]"
      ]
     },
     "execution_count": 6,
     "metadata": {},
     "output_type": "execute_result"
    }
   ],
   "source": [
    "policy_list"
   ]
  },
  {
   "cell_type": "code",
   "execution_count": null,
   "metadata": {},
   "outputs": [],
   "source": [
    "ema_logging.log_to_stderr(ema_logging.INFO)\n",
    "\n",
    "with MultiprocessingEvaluator(model, n_processes = 8) as evaluator:\n",
    "    results_policy = evaluator.perform_experiments(scenarios=4050, policies=policy_list)\n",
    "    \n",
    "utilities.save_results(results_policy, 'results/Scenarios11000Policy.csv')"
   ]
  },
  {
   "cell_type": "code",
   "execution_count": 8,
   "metadata": {},
   "outputs": [],
   "source": [
    "dict_list = [{'wider-exits':\"false\", 'wider-stairs':\"false\", 'obstacles':\"false\", 'one-way-traffic':\"false\",'phased-evacuation':\"false\",'dynamic-signs':\"false\",'evacuee-staff':\"false\"},\n",
    "            {'wider-exits':\"true\", 'wider-stairs':\"true\", 'obstacles':\"false\", 'one-way-traffic':\"false\",'phased-evacuation':\"false\",'dynamic-signs':\"false\",'evacuee-staff':\"false\"},\n",
    "            {'wider-exits':\"false\", 'wider-stairs':\"false\", 'obstacles':\"true\", 'one-way-traffic':\"false\",'phased-evacuation':\"false\",'dynamic-signs':\"false\",'evacuee-staff':\"false\"},\n",
    "            {'wider-exits':\"false\", 'wider-stairs':\"false\", 'obstacles':\"false\", 'one-way-traffic':\"false\",'phased-evacuation':\"true\",'dynamic-signs':\"false\",'evacuee-staff':\"false\"},\n",
    "            {'wider-exits':\"false\", 'wider-stairs':\"false\", 'obstacles':\"false\", 'one-way-traffic':\"false\",'phased-evacuation':\"false\",'dynamic-signs':\"true\",'evacuee-staff':\"false\"},\n",
    "            {'wider-exits':\"false\", 'wider-stairs':\"false\", 'obstacles':\"false\", 'one-way-traffic':\"false\",'phased-evacuation':\"false\",'dynamic-signs':\"false\",'evacuee-staff':\"true\"}]\n",
    "\n",
    "name_list = [\"Base\", \"Wider Both\", \"Obstacles\", \"Phased\", \"Dynamic Signs\", \"Staff\"]\n",
    "policy_list = []\n",
    "\n",
    "for x, policy in enumerate(dict_list):\n",
    "    policy_list.append(Policy(name_list[x], **policy))"
   ]
  },
  {
   "cell_type": "code",
   "execution_count": 9,
   "metadata": {},
   "outputs": [
    {
     "data": {
      "text/plain": [
       "[Policy({'wider-exits': 'false', 'wider-stairs': 'false', 'obstacles': 'false', 'one-way-traffic': 'false', 'phased-evacuation': 'false', 'dynamic-signs': 'false', 'evacuee-staff': 'false'}),\n",
       " Policy({'wider-exits': 'true', 'wider-stairs': 'true', 'obstacles': 'false', 'one-way-traffic': 'false', 'phased-evacuation': 'false', 'dynamic-signs': 'false', 'evacuee-staff': 'false'}),\n",
       " Policy({'wider-exits': 'false', 'wider-stairs': 'false', 'obstacles': 'true', 'one-way-traffic': 'false', 'phased-evacuation': 'false', 'dynamic-signs': 'false', 'evacuee-staff': 'false'}),\n",
       " Policy({'wider-exits': 'false', 'wider-stairs': 'false', 'obstacles': 'false', 'one-way-traffic': 'false', 'phased-evacuation': 'true', 'dynamic-signs': 'false', 'evacuee-staff': 'false'}),\n",
       " Policy({'wider-exits': 'false', 'wider-stairs': 'false', 'obstacles': 'false', 'one-way-traffic': 'false', 'phased-evacuation': 'false', 'dynamic-signs': 'true', 'evacuee-staff': 'false'}),\n",
       " Policy({'wider-exits': 'false', 'wider-stairs': 'false', 'obstacles': 'false', 'one-way-traffic': 'false', 'phased-evacuation': 'false', 'dynamic-signs': 'false', 'evacuee-staff': 'true'})]"
      ]
     },
     "execution_count": 9,
     "metadata": {},
     "output_type": "execute_result"
    }
   ],
   "source": [
    "policy_list"
   ]
  },
  {
   "cell_type": "code",
   "execution_count": 10,
   "metadata": {},
   "outputs": [],
   "source": [
    "model.uncertainties = [IntegerParameter(\"population\", 1300, 1700),\n",
    "                       RealParameter(\"familiarity\", 0.04, 0.24)]\n",
    "\n",
    "model.outcomes = [ArrayOutcome('evactimes'), ArrayOutcome('densities'), ArrayOutcome('evacuees_per_exit')]\n",
    "\n",
    "model.levers = [BooleanParameter('wider-exits'),\n",
    "               BooleanParameter('wider-stairs'),\n",
    "               BooleanParameter('obstacles'),\n",
    "               BooleanParameter('one-way-traffic'),\n",
    "               BooleanParameter('phased-evacuation'),\n",
    "               BooleanParameter('dynamic-signs'),\n",
    "               BooleanParameter('evacuee-staff')]"
   ]
  },
  {
   "cell_type": "code",
   "execution_count": 11,
   "metadata": {},
   "outputs": [
    {
     "name": "stderr",
     "output_type": "stream",
     "text": [
      "[MainProcess/INFO] pool started\n",
      "[MainProcess/INFO] performing 200 scenarios * 6 policies * 1 model(s) = 1200 experiments\n",
      "[MainProcess/INFO] 120 cases completed\n",
      "[MainProcess/INFO] 240 cases completed\n",
      "[MainProcess/INFO] 360 cases completed\n",
      "[MainProcess/INFO] 480 cases completed\n",
      "[MainProcess/INFO] 600 cases completed\n",
      "[MainProcess/INFO] 720 cases completed\n",
      "[MainProcess/INFO] 840 cases completed\n",
      "[MainProcess/INFO] 960 cases completed\n",
      "[MainProcess/INFO] 1080 cases completed\n",
      "[MainProcess/INFO] 1200 cases completed\n",
      "[MainProcess/INFO] experiments finished\n",
      "[MainProcess/INFO] terminating pool\n",
      "[MainProcess/INFO] results saved successfully to C:\\Users\\marce\\Desktop\\Python Thesis\\results\\CaseStudy200scenarios.csv\n"
     ]
    }
   ],
   "source": [
    "with MultiprocessingEvaluator(model, n_processes = 8) as evaluator:\n",
    "    results_policy = evaluator.perform_experiments(scenarios=200, policies=policy_list)\n",
    "    \n",
    "utilities.save_results(results_policy, 'results/CaseStudy200scenarios.csv')"
   ]
  },
  {
   "cell_type": "code",
   "execution_count": 12,
   "metadata": {},
   "outputs": [],
   "source": [
    "model.uncertainties = [IntegerParameter(\"population\", 1300, 1700),\n",
    "                       RealParameter(\"familiarity\", 0.80, 1)]\n",
    "\n",
    "model.outcomes = [ArrayOutcome('evactimes'), ArrayOutcome('densities'), ArrayOutcome('evacuees_per_exit')]\n",
    "\n",
    "model.levers = [BooleanParameter('wider-exits'),\n",
    "               BooleanParameter('wider-stairs'),\n",
    "               BooleanParameter('obstacles'),\n",
    "               BooleanParameter('one-way-traffic'),\n",
    "               BooleanParameter('phased-evacuation'),\n",
    "               BooleanParameter('dynamic-signs'),\n",
    "               BooleanParameter('evacuee-staff')]"
   ]
  },
  {
   "cell_type": "code",
   "execution_count": 13,
   "metadata": {},
   "outputs": [
    {
     "name": "stderr",
     "output_type": "stream",
     "text": [
      "[MainProcess/INFO] pool started\n",
      "[MainProcess/INFO] performing 200 scenarios * 6 policies * 1 model(s) = 1200 experiments\n",
      "[MainProcess/INFO] 120 cases completed\n",
      "[MainProcess/INFO] 240 cases completed\n",
      "[MainProcess/INFO] 360 cases completed\n",
      "[MainProcess/INFO] 480 cases completed\n",
      "[MainProcess/INFO] 600 cases completed\n",
      "[MainProcess/INFO] 720 cases completed\n",
      "[MainProcess/INFO] 840 cases completed\n",
      "[MainProcess/INFO] 960 cases completed\n",
      "[MainProcess/INFO] 1080 cases completed\n",
      "[MainProcess/INFO] 1200 cases completed\n",
      "[MainProcess/INFO] experiments finished\n",
      "[MainProcess/INFO] terminating pool\n",
      "[MainProcess/INFO] results saved successfully to C:\\Users\\marce\\Desktop\\Python Thesis\\results\\CaseStudy200scenariosActualValues.csv\n"
     ]
    }
   ],
   "source": [
    "with MultiprocessingEvaluator(model, n_processes = 8) as evaluator:\n",
    "    results_policy = evaluator.perform_experiments(scenarios=200, policies=policy_list)\n",
    "    \n",
    "utilities.save_results(results_policy, 'results/CaseStudy200scenariosActualValues.csv')"
   ]
  },
  {
   "cell_type": "code",
   "execution_count": null,
   "metadata": {},
   "outputs": [],
   "source": []
  }
 ],
 "metadata": {
  "kernelspec": {
   "display_name": "Python 3",
   "language": "python",
   "name": "python3"
  },
  "language_info": {
   "codemirror_mode": {
    "name": "ipython",
    "version": 3
   },
   "file_extension": ".py",
   "mimetype": "text/x-python",
   "name": "python",
   "nbconvert_exporter": "python",
   "pygments_lexer": "ipython3",
   "version": "3.7.3"
  }
 },
 "nbformat": 4,
 "nbformat_minor": 2
}
